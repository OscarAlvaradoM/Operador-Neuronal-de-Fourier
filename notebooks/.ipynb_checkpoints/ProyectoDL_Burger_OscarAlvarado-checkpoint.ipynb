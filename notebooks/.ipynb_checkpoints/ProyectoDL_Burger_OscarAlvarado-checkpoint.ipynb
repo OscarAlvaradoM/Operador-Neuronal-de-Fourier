{
 "cells": [
  {
   "cell_type": "markdown",
   "id": "d154abaa",
   "metadata": {},
   "source": [
    "# Operador Neuronal de Fourier"
   ]
  },
  {
   "cell_type": "code",
   "execution_count": 1,
   "id": "5a145e09",
   "metadata": {},
   "outputs": [],
   "source": [
    "import numpy as np\n",
    "import matplotlib.pyplot as plt\n",
    "# tomar n elementos de una secuencia\n",
    "from itertools import islice as take\n",
    "\n",
    "import torch\n",
    "import torch.nn as nn\n",
    "import torch.nn.functional as F\n",
    "from torch.nn.parameter import Parameter\n",
    "\n",
    "import operator\n",
    "from functools import reduce\n",
    "from functools import partial\n",
    "\n",
    "from timeit import default_timer\n",
    "from utilities3 import *\n",
    "\n",
    "from utils import *\n",
    "\n",
    "# barras de progreso\n",
    "from tqdm import trange\n",
    "\n",
    "torch.manual_seed(0)\n",
    "np.random.seed(0)"
   ]
  },
  {
   "cell_type": "code",
   "execution_count": 2,
   "id": "0b5e03aa",
   "metadata": {},
   "outputs": [
    {
     "data": {
      "text/plain": [
       "device(type='cuda', index=0)"
      ]
     },
     "execution_count": 2,
     "metadata": {},
     "output_type": "execute_result"
    }
   ],
   "source": [
    "device = torch.device('cuda:0' if torch.cuda.is_available() else 'cpu')\n",
    "device"
   ]
  },
  {
   "cell_type": "markdown",
   "id": "a7007e89",
   "metadata": {},
   "source": [
    "## Arquitectura"
   ]
  },
  {
   "cell_type": "code",
   "execution_count": 3,
   "id": "b818dbb8",
   "metadata": {},
   "outputs": [],
   "source": [
    "# Parte principal de la capa de Fourier\n",
    "class SpectralConv1d(nn.Module):\n",
    "    def __init__(self, in_channels, out_channels, modes1):\n",
    "        super(SpectralConv1d, self).__init__()\n",
    "        self.in_channels = in_channels\n",
    "        self.out_channels = out_channels\n",
    "        self.modes1 = modes1  #Number of Fourier modes to multiply, at most floor(N/2) + 1\n",
    "\n",
    "        self.scale = (1 / (in_channels*out_channels))\n",
    "        self.weights1 = nn.Parameter(self.scale * torch.rand(in_channels, out_channels, self.modes1, \n",
    "                                                             dtype=torch.cfloat))\n",
    "\n",
    "    # Complex multiplication (batch matrix multiplication)\n",
    "    def compl_mul1d(self, input, weights):\n",
    "        # (batch, in_channel, x ), (in_channel, out_channel, x) -> (batch, out_channel, x)\n",
    "        # ¡Es una suma de einstein! La primera entrada es el formato de la ecuación.\n",
    "        return torch.einsum(\"bix,iox->box\", input, weights)\n",
    "\n",
    "    def forward(self, x):\n",
    "        batchsize = x.shape[0]\n",
    "        # Compute Fourier coeffcients up to factor of e^(- something constant)\n",
    "        # Computes the one dimensional Fourier transform of real-valued input.\n",
    "        x_ft = torch.fft.rfft(x)\n",
    "\n",
    "        # Esta es la famosísima R\n",
    "        out_ft = torch.zeros(batchsize, self.out_channels, x.size(-1)//2 + 1,  device=x.device, \n",
    "                             dtype=torch.cfloat)\n",
    "        out_ft[:, :, :self.modes1] = self.compl_mul1d(x_ft[:, :, :self.modes1], self.weights1)\n",
    "\n",
    "        # La transformada inversa de Fourier.\n",
    "        x = torch.fft.irfft(out_ft, n=x.size(-1))\n",
    "        return x"
   ]
  },
  {
   "cell_type": "code",
   "execution_count": 4,
   "id": "c6a42844",
   "metadata": {},
   "outputs": [],
   "source": [
    "class FourierLayerBlock(nn.Module):\n",
    "    def __init__(self, modes, width):\n",
    "        super(FourierLayerBlock, self).__init__()\n",
    "        self.modes = modes\n",
    "        self.width = width\n",
    "        self.rama_superior = SpectralConv1d(self.width, self.width, self.modes)\n",
    "        self.rama_inferior = nn.Conv1d(self.width, self.width, 1)\n",
    "        \n",
    "    def forward(self, x):\n",
    "        x_sup = self.rama_superior(x)\n",
    "        x_inf = self.rama_inferior(x)\n",
    "        x = x_sup + x_inf\n",
    "        x = F.relu(x)\n",
    "        return x"
   ]
  },
  {
   "cell_type": "code",
   "execution_count": 5,
   "id": "2d11fbb0",
   "metadata": {},
   "outputs": [],
   "source": [
    "class FNO1d(nn.Module):\n",
    "    def __init__(self, modes, width, layers = 4):\n",
    "        super(FNO1d, self).__init__()\n",
    "        self.modes = modes\n",
    "        self.width = width\n",
    "        self.layers = layers\n",
    "        self.fc0 = nn.Linear(2, self.width)\n",
    "\n",
    "        self.module = nn.ModuleList()\n",
    "        for idx in range(self.layers):\n",
    "            fl = FourierLayerBlock(self.modes, self.width)\n",
    "            self.module.append(fl)\n",
    "\n",
    "        self.fc1 = nn.Linear(self.width, 128)\n",
    "        self.fc2 = nn.Linear(128, 1)\n",
    "\n",
    "    def forward(self, x):\n",
    "        # P\n",
    "        x = self.fc0(x)\n",
    "        x = x.permute(0, 2, 1)\n",
    "        # Las capas de Fourier\n",
    "        for mod in self.module:\n",
    "            x = mod(x)\n",
    "        # Q\n",
    "        x = x.permute(0, 2, 1)\n",
    "        x = self.fc1(x)\n",
    "        x = F.relu(x)\n",
    "        x = self.fc2(x)\n",
    "        return x"
   ]
  },
  {
   "cell_type": "markdown",
   "id": "8b7183bd",
   "metadata": {},
   "source": [
    "## Configuraciones"
   ]
  },
  {
   "cell_type": "code",
   "execution_count": 6,
   "id": "0b71c5dc",
   "metadata": {},
   "outputs": [],
   "source": [
    "ntrain = 1000\n",
    "ntest = 200\n",
    "\n",
    "sub = 2**3 #subsampling rate\n",
    "# Esta h es el largo de los datos, el largo de la barra.\n",
    "h = 2**13 // sub #total grid size divided by the subsampling rate\n",
    "s = h\n",
    "\n",
    "batch_size = 32\n",
    "learning_rate = 0.001\n",
    "\n",
    "epochs = 200\n",
    "step_size = 100\n",
    "gamma = 0.5\n",
    "\n",
    "modes = 16 # Por qué? Por qué no menos?\n",
    "width = 64"
   ]
  },
  {
   "cell_type": "markdown",
   "id": "a17ddbb7",
   "metadata": {},
   "source": [
    "## Instanciando un modelo"
   ]
  },
  {
   "cell_type": "code",
   "execution_count": 7,
   "id": "54edbb9f",
   "metadata": {
    "scrolled": true
   },
   "outputs": [
    {
     "name": "stdout",
     "output_type": "stream",
     "text": [
      "FNO1d(\n",
      "  (fc0): Linear(in_features=2, out_features=64, bias=True)\n",
      "  (module): ModuleList(\n",
      "    (0): FourierLayerBlock(\n",
      "      (rama_superior): SpectralConv1d()\n",
      "      (rama_inferior): Conv1d(64, 64, kernel_size=(1,), stride=(1,))\n",
      "    )\n",
      "    (1): FourierLayerBlock(\n",
      "      (rama_superior): SpectralConv1d()\n",
      "      (rama_inferior): Conv1d(64, 64, kernel_size=(1,), stride=(1,))\n",
      "    )\n",
      "    (2): FourierLayerBlock(\n",
      "      (rama_superior): SpectralConv1d()\n",
      "      (rama_inferior): Conv1d(64, 64, kernel_size=(1,), stride=(1,))\n",
      "    )\n",
      "    (3): FourierLayerBlock(\n",
      "      (rama_superior): SpectralConv1d()\n",
      "      (rama_inferior): Conv1d(64, 64, kernel_size=(1,), stride=(1,))\n",
      "    )\n",
      "  )\n",
      "  (fc1): Linear(in_features=64, out_features=128, bias=True)\n",
      "  (fc2): Linear(in_features=128, out_features=1, bias=True)\n",
      ")\n"
     ]
    }
   ],
   "source": [
    "model = FNO1d(modes, width)\n",
    "print(model)"
   ]
  },
  {
   "cell_type": "markdown",
   "id": "552a7687",
   "metadata": {},
   "source": [
    "## Lectura de datos"
   ]
  },
  {
   "cell_type": "code",
   "execution_count": 12,
   "id": "9a8bcd41",
   "metadata": {},
   "outputs": [
    {
     "name": "stdout",
     "output_type": "stream",
     "text": [
      "CPU times: user 11 s, sys: 996 ms, total: 12 s\n",
      "Wall time: 39.9 s\n"
     ]
    }
   ],
   "source": [
    "%%time\n",
    "# Data is of the shape (number of samples, grid size)\n",
    "dataloader = MatReader('../datasets/Burgers/burgers_data_R10.mat')\n",
    "x_data = dataloader.read_field('a')[:,::sub]\n",
    "y_data = dataloader.read_field('u')[:,::sub]\n",
    "\n",
    "# Conjunto de entrenamiento\n",
    "x_train = x_data[:ntrain,:]\n",
    "y_train = y_data[:ntrain,:]\n",
    "# Conjunto de pruebas\n",
    "x_test = x_data[-ntest:,:]\n",
    "y_test = y_data[-ntest:,:]\n",
    "\n",
    "ntrain = int(ntrain*0.8)\n",
    "neval = int(ntrain*0.2)\n",
    "\n",
    "# Conjunto de entrenamiento\n",
    "x_train = x_train[:ntrain,:]\n",
    "y_train = y_train[:ntrain,:]\n",
    "# Conjunto de evaluación\n",
    "x_eval = x_train[-neval:,:]\n",
    "y_eval = y_train[-neval:,:]\n",
    "\n",
    "# cat the locations information\n",
    "# Es como una cuadrícula dividida en s partes cambiada a 3 dimensiones\n",
    "grid = np.linspace(0, 1, s).reshape(1, s, 1)\n",
    "grid = torch.tensor(grid, dtype=torch.float)\n",
    "x_train = torch.cat([x_train.reshape(ntrain,s,1), grid.repeat(ntrain,1,1)], dim=2)\n",
    "x_eval = torch.cat([x_eval.reshape(neval,s,1), grid.repeat(neval,1,1)], dim=2)\n",
    "x_test = torch.cat([x_test.reshape(ntest,s,1), grid.repeat(ntest,1,1)], dim=2)\n",
    "\n",
    "train_loader = torch.utils.data.DataLoader(torch.utils.data.TensorDataset(x_train, y_train), \n",
    "                                           batch_size=batch_size, shuffle=True)\n",
    "eval_loader = torch.utils.data.DataLoader(torch.utils.data.TensorDataset(x_eval, y_eval), \n",
    "                                           batch_size=batch_size, shuffle=True)\n",
    "test_loader = torch.utils.data.DataLoader(torch.utils.data.TensorDataset(x_test, y_test), \n",
    "                                          batch_size=batch_size, shuffle=False)"
   ]
  },
  {
   "cell_type": "markdown",
   "id": "c2b49b75",
   "metadata": {},
   "source": [
    "## Entrenamiento y evaluación"
   ]
  },
  {
   "cell_type": "code",
   "execution_count": 13,
   "id": "b5d8296e",
   "metadata": {},
   "outputs": [],
   "source": [
    "def train_epoch_GPU(dl, model, opt, scheduler):\n",
    "    myloss = LpLoss(size_average=False)\n",
    "    # Entrenamos por cada lote\n",
    "    for x, y in dl:\n",
    "        out = model(x.to(device))\n",
    "        # Computamos la pérdida\n",
    "        mse = F.mse_loss(out.view(batch_size, -1), y.to(device).view(batch_size, -1), reduction='mean')\n",
    "        l2 = myloss(out.view(batch_size, -1), y.to(device).view(batch_size, -1))\n",
    "        \n",
    "        # Vaciamos los gradientes\n",
    "        opt.zero_grad()\n",
    "        \n",
    "        # Retropropagamos\n",
    "        l2.backward() # l2 pérdida relativa\n",
    "\n",
    "        opt.step()\n",
    "        \n",
    "    scheduler.step()\n",
    "    model.eval()\n",
    "        \n",
    "def eval_epoch_GPU(dl, model, num_batches=None):\n",
    "    myloss = LpLoss(size_average=False)\n",
    "    # Evitamos que se registren las operaciones en la gráfica de cómputo\n",
    "    #pred = torch.zeros(y_test.shape)\n",
    "    with torch.no_grad():\n",
    "        # historiales\n",
    "        losses, mses = [], []\n",
    "\n",
    "        # validación de la época con num_batches\n",
    "        # si num_batches==None, se usan todos los lotes\n",
    "        test_l2 = 0\n",
    "        for x, y_true in take(dl, num_batches):\n",
    "            out = model(x.to(device))\n",
    "            \n",
    "            test_l2 = myloss(out.view(1, -1), y_true.to(device).view(1, -1)).item()\n",
    "            test_mse = F.mse_loss(out.view(1, -1), y_true.to(device).view(1, -1), reduction='mean')\n",
    "            losses.append(test_l2)\n",
    "            mses.append(test_mse.cpu())\n",
    "        # promediamos\n",
    "        loss = np.mean(losses)\n",
    "        mse = np.mean(mses)\n",
    "\n",
    "        return loss, mse\n",
    "        \n",
    "        \n",
    "def train_GPU(model, trn_dl, tst_dl, lr=1e-3, epochs=20,\n",
    "              trn_batches=None, tst_batches=None):\n",
    "    myloss = LpLoss(size_average=False)\n",
    "    opt = torch.optim.Adam(model.parameters(), lr=learning_rate, weight_decay=1e-4)\n",
    "    scheduler = torch.optim.lr_scheduler.StepLR(opt, step_size=step_size, gamma=gamma)\n",
    "    \n",
    "    loss_hist = []\n",
    "    mse_hist = []\n",
    "    for epoch in trange(epochs):\n",
    "        # entrenamos la época\n",
    "        train_epoch_GPU(trn_dl, model, opt, scheduler)\n",
    "        \n",
    "        # evaluamos la época en entrenamiento\n",
    "        trn_loss, trn_mse = eval_epoch_GPU(trn_dl, model, trn_batches)\n",
    "        # evaluamos la época en prueba\n",
    "        tst_loss, tst_mse = eval_epoch_GPU(tst_dl, model, tst_batches)\n",
    "        \n",
    "        # guardamos historial\n",
    "        loss_hist.append([trn_loss, tst_loss])\n",
    "        mse_hist.append([trn_mse, tst_mse])\n",
    "        \n",
    "        # imprimimos progreso\n",
    "        print(f'E{epoch:02} \\n'\n",
    "              f'loss=[{trn_loss:6.2f},{tst_loss:6.2f}] \\n'\n",
    "              f'mse=[{trn_mse:6.2f},{tst_mse:6.2f}] \\n')\n",
    "    return loss_hist, mse_hist"
   ]
  },
  {
   "cell_type": "markdown",
   "id": "65dbd442",
   "metadata": {},
   "source": [
    "## Entrenando modelo"
   ]
  },
  {
   "cell_type": "code",
   "execution_count": 14,
   "id": "ef77af68",
   "metadata": {},
   "outputs": [
    {
     "name": "stderr",
     "output_type": "stream",
     "text": [
      "  0%|          | 1/300 [00:16<1:19:52, 16.03s/it]"
     ]
    },
    {
     "name": "stdout",
     "output_type": "stream",
     "text": [
      "E00 \n",
      "loss=[  0.27,  0.27] \n",
      "mse=[  0.02,  0.02] \n",
      "\n"
     ]
    },
    {
     "name": "stderr",
     "output_type": "stream",
     "text": [
      "\r",
      "  1%|          | 2/300 [00:16<33:49,  6.81s/it]  "
     ]
    },
    {
     "name": "stdout",
     "output_type": "stream",
     "text": [
      "E01 \n",
      "loss=[  0.11,  0.11] \n",
      "mse=[  0.00,  0.00] \n",
      "\n"
     ]
    },
    {
     "name": "stderr",
     "output_type": "stream",
     "text": [
      "\r",
      "  1%|          | 3/300 [00:16<19:08,  3.87s/it]"
     ]
    },
    {
     "name": "stdout",
     "output_type": "stream",
     "text": [
      "E02 \n",
      "loss=[  0.08,  0.08] \n",
      "mse=[  0.00,  0.00] \n",
      "\n"
     ]
    },
    {
     "name": "stderr",
     "output_type": "stream",
     "text": [
      "\r",
      "  1%|▏         | 4/300 [00:17<12:15,  2.48s/it]"
     ]
    },
    {
     "name": "stdout",
     "output_type": "stream",
     "text": [
      "E03 \n",
      "loss=[  0.05,  0.05] \n",
      "mse=[  0.00,  0.00] \n",
      "\n"
     ]
    },
    {
     "name": "stderr",
     "output_type": "stream",
     "text": [
      "\r",
      "  2%|▏         | 5/300 [00:17<08:27,  1.72s/it]"
     ]
    },
    {
     "name": "stdout",
     "output_type": "stream",
     "text": [
      "E04 \n",
      "loss=[  0.04,  0.04] \n",
      "mse=[  0.00,  0.00] \n",
      "\n"
     ]
    },
    {
     "name": "stderr",
     "output_type": "stream",
     "text": [
      "\r",
      "  2%|▏         | 6/300 [00:17<06:10,  1.26s/it]"
     ]
    },
    {
     "name": "stdout",
     "output_type": "stream",
     "text": [
      "E05 \n",
      "loss=[  0.04,  0.04] \n",
      "mse=[  0.00,  0.00] \n",
      "\n"
     ]
    },
    {
     "name": "stderr",
     "output_type": "stream",
     "text": [
      "\r",
      "  2%|▏         | 7/300 [00:18<04:43,  1.03it/s]"
     ]
    },
    {
     "name": "stdout",
     "output_type": "stream",
     "text": [
      "E06 \n",
      "loss=[  0.05,  0.05] \n",
      "mse=[  0.00,  0.00] \n",
      "\n"
     ]
    },
    {
     "name": "stderr",
     "output_type": "stream",
     "text": [
      "\r",
      "  3%|▎         | 8/300 [00:18<03:46,  1.29it/s]"
     ]
    },
    {
     "name": "stdout",
     "output_type": "stream",
     "text": [
      "E07 \n",
      "loss=[  0.05,  0.05] \n",
      "mse=[  0.00,  0.00] \n",
      "\n"
     ]
    },
    {
     "name": "stderr",
     "output_type": "stream",
     "text": [
      "\r",
      "  3%|▎         | 9/300 [00:18<03:08,  1.54it/s]"
     ]
    },
    {
     "name": "stdout",
     "output_type": "stream",
     "text": [
      "E08 \n",
      "loss=[  0.04,  0.04] \n",
      "mse=[  0.00,  0.00] \n",
      "\n"
     ]
    },
    {
     "name": "stderr",
     "output_type": "stream",
     "text": [
      "\r",
      "  3%|▎         | 10/300 [00:19<02:42,  1.78it/s]"
     ]
    },
    {
     "name": "stdout",
     "output_type": "stream",
     "text": [
      "E09 \n",
      "loss=[  0.05,  0.05] \n",
      "mse=[  0.00,  0.00] \n",
      "\n"
     ]
    },
    {
     "name": "stderr",
     "output_type": "stream",
     "text": [
      "\r",
      "  4%|▎         | 11/300 [00:19<02:24,  1.99it/s]"
     ]
    },
    {
     "name": "stdout",
     "output_type": "stream",
     "text": [
      "E10 \n",
      "loss=[  0.03,  0.03] \n",
      "mse=[  0.00,  0.00] \n",
      "\n"
     ]
    },
    {
     "name": "stderr",
     "output_type": "stream",
     "text": [
      "\r",
      "  4%|▍         | 12/300 [00:20<02:12,  2.17it/s]"
     ]
    },
    {
     "name": "stdout",
     "output_type": "stream",
     "text": [
      "E11 \n",
      "loss=[  0.03,  0.03] \n",
      "mse=[  0.00,  0.00] \n",
      "\n"
     ]
    },
    {
     "name": "stderr",
     "output_type": "stream",
     "text": [
      "\r",
      "  4%|▍         | 13/300 [00:20<02:04,  2.30it/s]"
     ]
    },
    {
     "name": "stdout",
     "output_type": "stream",
     "text": [
      "E12 \n",
      "loss=[  0.03,  0.03] \n",
      "mse=[  0.00,  0.00] \n",
      "\n"
     ]
    },
    {
     "name": "stderr",
     "output_type": "stream",
     "text": [
      "\r",
      "  5%|▍         | 14/300 [00:20<01:59,  2.39it/s]"
     ]
    },
    {
     "name": "stdout",
     "output_type": "stream",
     "text": [
      "E13 \n",
      "loss=[  0.03,  0.03] \n",
      "mse=[  0.00,  0.00] \n",
      "\n"
     ]
    },
    {
     "name": "stderr",
     "output_type": "stream",
     "text": [
      "\r",
      "  5%|▌         | 15/300 [00:21<01:54,  2.48it/s]"
     ]
    },
    {
     "name": "stdout",
     "output_type": "stream",
     "text": [
      "E14 \n",
      "loss=[  0.03,  0.03] \n",
      "mse=[  0.00,  0.00] \n",
      "\n"
     ]
    },
    {
     "name": "stderr",
     "output_type": "stream",
     "text": [
      "\r",
      "  5%|▌         | 16/300 [00:21<01:52,  2.53it/s]"
     ]
    },
    {
     "name": "stdout",
     "output_type": "stream",
     "text": [
      "E15 \n",
      "loss=[  0.03,  0.03] \n",
      "mse=[  0.00,  0.00] \n",
      "\n"
     ]
    },
    {
     "name": "stderr",
     "output_type": "stream",
     "text": [
      "\r",
      "  6%|▌         | 17/300 [00:21<01:50,  2.55it/s]"
     ]
    },
    {
     "name": "stdout",
     "output_type": "stream",
     "text": [
      "E16 \n",
      "loss=[  0.04,  0.03] \n",
      "mse=[  0.00,  0.00] \n",
      "\n"
     ]
    },
    {
     "name": "stderr",
     "output_type": "stream",
     "text": [
      "\r",
      "  6%|▌         | 18/300 [00:22<01:49,  2.57it/s]"
     ]
    },
    {
     "name": "stdout",
     "output_type": "stream",
     "text": [
      "E17 \n",
      "loss=[  0.03,  0.03] \n",
      "mse=[  0.00,  0.00] \n",
      "\n"
     ]
    },
    {
     "name": "stderr",
     "output_type": "stream",
     "text": [
      "\r",
      "  6%|▋         | 19/300 [00:22<01:46,  2.63it/s]"
     ]
    },
    {
     "name": "stdout",
     "output_type": "stream",
     "text": [
      "E18 \n",
      "loss=[  0.02,  0.02] \n",
      "mse=[  0.00,  0.00] \n",
      "\n"
     ]
    },
    {
     "name": "stderr",
     "output_type": "stream",
     "text": [
      "\r",
      "  7%|▋         | 20/300 [00:23<01:45,  2.67it/s]"
     ]
    },
    {
     "name": "stdout",
     "output_type": "stream",
     "text": [
      "E19 \n",
      "loss=[  0.03,  0.03] \n",
      "mse=[  0.00,  0.00] \n",
      "\n"
     ]
    },
    {
     "name": "stderr",
     "output_type": "stream",
     "text": [
      "\r",
      "  7%|▋         | 21/300 [00:23<01:44,  2.66it/s]"
     ]
    },
    {
     "name": "stdout",
     "output_type": "stream",
     "text": [
      "E20 \n",
      "loss=[  0.03,  0.03] \n",
      "mse=[  0.00,  0.00] \n",
      "\n"
     ]
    },
    {
     "name": "stderr",
     "output_type": "stream",
     "text": [
      "\r",
      "  7%|▋         | 22/300 [00:23<01:45,  2.64it/s]"
     ]
    },
    {
     "name": "stdout",
     "output_type": "stream",
     "text": [
      "E21 \n",
      "loss=[  0.03,  0.03] \n",
      "mse=[  0.00,  0.00] \n",
      "\n"
     ]
    },
    {
     "name": "stderr",
     "output_type": "stream",
     "text": [
      "\r",
      "  8%|▊         | 23/300 [00:24<01:45,  2.64it/s]"
     ]
    },
    {
     "name": "stdout",
     "output_type": "stream",
     "text": [
      "E22 \n",
      "loss=[  0.02,  0.02] \n",
      "mse=[  0.00,  0.00] \n",
      "\n"
     ]
    },
    {
     "name": "stderr",
     "output_type": "stream",
     "text": [
      "\r",
      "  8%|▊         | 24/300 [00:24<01:43,  2.67it/s]"
     ]
    },
    {
     "name": "stdout",
     "output_type": "stream",
     "text": [
      "E23 \n",
      "loss=[  0.03,  0.03] \n",
      "mse=[  0.00,  0.00] \n",
      "\n"
     ]
    },
    {
     "name": "stderr",
     "output_type": "stream",
     "text": [
      "\r",
      "  8%|▊         | 25/300 [00:24<01:42,  2.69it/s]"
     ]
    },
    {
     "name": "stdout",
     "output_type": "stream",
     "text": [
      "E24 \n",
      "loss=[  0.02,  0.02] \n",
      "mse=[  0.00,  0.00] \n",
      "\n"
     ]
    },
    {
     "name": "stderr",
     "output_type": "stream",
     "text": [
      "\r",
      "  9%|▊         | 26/300 [00:25<01:40,  2.71it/s]"
     ]
    },
    {
     "name": "stdout",
     "output_type": "stream",
     "text": [
      "E25 \n",
      "loss=[  0.03,  0.03] \n",
      "mse=[  0.00,  0.00] \n",
      "\n"
     ]
    },
    {
     "name": "stderr",
     "output_type": "stream",
     "text": [
      "\r",
      "  9%|▉         | 27/300 [00:25<01:40,  2.73it/s]"
     ]
    },
    {
     "name": "stdout",
     "output_type": "stream",
     "text": [
      "E26 \n",
      "loss=[  0.02,  0.02] \n",
      "mse=[  0.00,  0.00] \n",
      "\n"
     ]
    },
    {
     "name": "stderr",
     "output_type": "stream",
     "text": [
      "\r",
      "  9%|▉         | 28/300 [00:25<01:39,  2.73it/s]"
     ]
    },
    {
     "name": "stdout",
     "output_type": "stream",
     "text": [
      "E27 \n",
      "loss=[  0.02,  0.02] \n",
      "mse=[  0.00,  0.00] \n",
      "\n"
     ]
    },
    {
     "name": "stderr",
     "output_type": "stream",
     "text": [
      "\r",
      " 10%|▉         | 29/300 [00:26<01:39,  2.72it/s]"
     ]
    },
    {
     "name": "stdout",
     "output_type": "stream",
     "text": [
      "E28 \n",
      "loss=[  0.02,  0.02] \n",
      "mse=[  0.00,  0.00] \n",
      "\n"
     ]
    },
    {
     "name": "stderr",
     "output_type": "stream",
     "text": [
      "\r",
      " 10%|█         | 30/300 [00:26<01:38,  2.74it/s]"
     ]
    },
    {
     "name": "stdout",
     "output_type": "stream",
     "text": [
      "E29 \n",
      "loss=[  0.02,  0.02] \n",
      "mse=[  0.00,  0.00] \n",
      "\n"
     ]
    },
    {
     "name": "stderr",
     "output_type": "stream",
     "text": [
      "\r",
      " 10%|█         | 31/300 [00:27<01:37,  2.75it/s]"
     ]
    },
    {
     "name": "stdout",
     "output_type": "stream",
     "text": [
      "E30 \n",
      "loss=[  0.02,  0.02] \n",
      "mse=[  0.00,  0.00] \n",
      "\n"
     ]
    },
    {
     "name": "stderr",
     "output_type": "stream",
     "text": [
      "\r",
      " 11%|█         | 32/300 [00:27<01:37,  2.75it/s]"
     ]
    },
    {
     "name": "stdout",
     "output_type": "stream",
     "text": [
      "E31 \n",
      "loss=[  0.02,  0.02] \n",
      "mse=[  0.00,  0.00] \n",
      "\n"
     ]
    },
    {
     "name": "stderr",
     "output_type": "stream",
     "text": [
      "\r",
      " 11%|█         | 33/300 [00:27<01:36,  2.76it/s]"
     ]
    },
    {
     "name": "stdout",
     "output_type": "stream",
     "text": [
      "E32 \n",
      "loss=[  0.02,  0.02] \n",
      "mse=[  0.00,  0.00] \n",
      "\n"
     ]
    },
    {
     "name": "stderr",
     "output_type": "stream",
     "text": [
      "\r",
      " 11%|█▏        | 34/300 [00:28<01:36,  2.76it/s]"
     ]
    },
    {
     "name": "stdout",
     "output_type": "stream",
     "text": [
      "E33 \n",
      "loss=[  0.02,  0.02] \n",
      "mse=[  0.00,  0.00] \n",
      "\n"
     ]
    },
    {
     "name": "stderr",
     "output_type": "stream",
     "text": [
      "\r",
      " 12%|█▏        | 35/300 [00:28<01:35,  2.76it/s]"
     ]
    },
    {
     "name": "stdout",
     "output_type": "stream",
     "text": [
      "E34 \n",
      "loss=[  0.02,  0.02] \n",
      "mse=[  0.00,  0.00] \n",
      "\n"
     ]
    },
    {
     "name": "stderr",
     "output_type": "stream",
     "text": [
      "\r",
      " 12%|█▏        | 36/300 [00:28<01:35,  2.76it/s]"
     ]
    },
    {
     "name": "stdout",
     "output_type": "stream",
     "text": [
      "E35 \n",
      "loss=[  0.01,  0.01] \n",
      "mse=[  0.00,  0.00] \n",
      "\n"
     ]
    },
    {
     "name": "stderr",
     "output_type": "stream",
     "text": [
      "\r",
      " 12%|█▏        | 37/300 [00:29<01:35,  2.76it/s]"
     ]
    },
    {
     "name": "stdout",
     "output_type": "stream",
     "text": [
      "E36 \n",
      "loss=[  0.02,  0.02] \n",
      "mse=[  0.00,  0.00] \n",
      "\n"
     ]
    },
    {
     "name": "stderr",
     "output_type": "stream",
     "text": [
      "\r",
      " 13%|█▎        | 38/300 [00:29<01:34,  2.76it/s]"
     ]
    },
    {
     "name": "stdout",
     "output_type": "stream",
     "text": [
      "E37 \n",
      "loss=[  0.02,  0.02] \n",
      "mse=[  0.00,  0.00] \n",
      "\n"
     ]
    },
    {
     "name": "stderr",
     "output_type": "stream",
     "text": [
      "\r",
      " 13%|█▎        | 39/300 [00:29<01:35,  2.74it/s]"
     ]
    },
    {
     "name": "stdout",
     "output_type": "stream",
     "text": [
      "E38 \n",
      "loss=[  0.02,  0.03] \n",
      "mse=[  0.00,  0.00] \n",
      "\n"
     ]
    },
    {
     "name": "stderr",
     "output_type": "stream",
     "text": [
      "\r",
      " 13%|█▎        | 40/300 [00:30<01:34,  2.75it/s]"
     ]
    },
    {
     "name": "stdout",
     "output_type": "stream",
     "text": [
      "E39 \n",
      "loss=[  0.03,  0.03] \n",
      "mse=[  0.00,  0.00] \n",
      "\n"
     ]
    },
    {
     "name": "stderr",
     "output_type": "stream",
     "text": [
      "\r",
      " 14%|█▎        | 41/300 [00:30<01:34,  2.75it/s]"
     ]
    },
    {
     "name": "stdout",
     "output_type": "stream",
     "text": [
      "E40 \n",
      "loss=[  0.02,  0.02] \n",
      "mse=[  0.00,  0.00] \n",
      "\n"
     ]
    },
    {
     "name": "stderr",
     "output_type": "stream",
     "text": [
      "\r",
      " 14%|█▍        | 42/300 [00:31<01:33,  2.75it/s]"
     ]
    },
    {
     "name": "stdout",
     "output_type": "stream",
     "text": [
      "E41 \n",
      "loss=[  0.01,  0.01] \n",
      "mse=[  0.00,  0.00] \n",
      "\n"
     ]
    },
    {
     "name": "stderr",
     "output_type": "stream",
     "text": [
      "\r",
      " 14%|█▍        | 43/300 [00:31<01:33,  2.76it/s]"
     ]
    },
    {
     "name": "stdout",
     "output_type": "stream",
     "text": [
      "E42 \n",
      "loss=[  0.01,  0.01] \n",
      "mse=[  0.00,  0.00] \n",
      "\n"
     ]
    },
    {
     "name": "stderr",
     "output_type": "stream",
     "text": [
      "\r",
      " 15%|█▍        | 44/300 [00:31<01:32,  2.76it/s]"
     ]
    },
    {
     "name": "stdout",
     "output_type": "stream",
     "text": [
      "E43 \n",
      "loss=[  0.02,  0.02] \n",
      "mse=[  0.00,  0.00] \n",
      "\n"
     ]
    },
    {
     "name": "stderr",
     "output_type": "stream",
     "text": [
      "\r",
      " 15%|█▌        | 45/300 [00:32<01:32,  2.76it/s]"
     ]
    },
    {
     "name": "stdout",
     "output_type": "stream",
     "text": [
      "E44 \n",
      "loss=[  0.02,  0.02] \n",
      "mse=[  0.00,  0.00] \n",
      "\n"
     ]
    },
    {
     "name": "stderr",
     "output_type": "stream",
     "text": [
      "\r",
      " 15%|█▌        | 46/300 [00:32<01:31,  2.76it/s]"
     ]
    },
    {
     "name": "stdout",
     "output_type": "stream",
     "text": [
      "E45 \n",
      "loss=[  0.02,  0.02] \n",
      "mse=[  0.00,  0.00] \n",
      "\n"
     ]
    },
    {
     "name": "stderr",
     "output_type": "stream",
     "text": [
      "\r",
      " 16%|█▌        | 47/300 [00:32<01:31,  2.76it/s]"
     ]
    },
    {
     "name": "stdout",
     "output_type": "stream",
     "text": [
      "E46 \n",
      "loss=[  0.02,  0.02] \n",
      "mse=[  0.00,  0.00] \n",
      "\n"
     ]
    },
    {
     "name": "stderr",
     "output_type": "stream",
     "text": [
      "\r",
      " 16%|█▌        | 48/300 [00:33<01:31,  2.76it/s]"
     ]
    },
    {
     "name": "stdout",
     "output_type": "stream",
     "text": [
      "E47 \n",
      "loss=[  0.04,  0.04] \n",
      "mse=[  0.00,  0.00] \n",
      "\n"
     ]
    },
    {
     "name": "stderr",
     "output_type": "stream",
     "text": [
      "\r",
      " 16%|█▋        | 49/300 [00:33<01:30,  2.76it/s]"
     ]
    },
    {
     "name": "stdout",
     "output_type": "stream",
     "text": [
      "E48 \n",
      "loss=[  0.04,  0.04] \n",
      "mse=[  0.00,  0.00] \n",
      "\n"
     ]
    },
    {
     "name": "stderr",
     "output_type": "stream",
     "text": [
      "\r",
      " 17%|█▋        | 50/300 [00:33<01:30,  2.76it/s]"
     ]
    },
    {
     "name": "stdout",
     "output_type": "stream",
     "text": [
      "E49 \n",
      "loss=[  0.04,  0.04] \n",
      "mse=[  0.00,  0.00] \n",
      "\n"
     ]
    },
    {
     "name": "stderr",
     "output_type": "stream",
     "text": [
      "\r",
      " 17%|█▋        | 51/300 [00:34<01:30,  2.76it/s]"
     ]
    },
    {
     "name": "stdout",
     "output_type": "stream",
     "text": [
      "E50 \n",
      "loss=[  0.06,  0.05] \n",
      "mse=[  0.00,  0.00] \n",
      "\n"
     ]
    },
    {
     "name": "stderr",
     "output_type": "stream",
     "text": [
      "\r",
      " 17%|█▋        | 52/300 [00:34<01:29,  2.76it/s]"
     ]
    },
    {
     "name": "stdout",
     "output_type": "stream",
     "text": [
      "E51 \n",
      "loss=[  0.02,  0.02] \n",
      "mse=[  0.00,  0.00] \n",
      "\n"
     ]
    },
    {
     "name": "stderr",
     "output_type": "stream",
     "text": [
      "\r",
      " 18%|█▊        | 53/300 [00:35<01:29,  2.76it/s]"
     ]
    },
    {
     "name": "stdout",
     "output_type": "stream",
     "text": [
      "E52 \n",
      "loss=[  0.03,  0.03] \n",
      "mse=[  0.00,  0.00] \n",
      "\n"
     ]
    },
    {
     "name": "stderr",
     "output_type": "stream",
     "text": [
      "\r",
      " 18%|█▊        | 54/300 [00:35<01:29,  2.76it/s]"
     ]
    },
    {
     "name": "stdout",
     "output_type": "stream",
     "text": [
      "E53 \n",
      "loss=[  0.05,  0.05] \n",
      "mse=[  0.00,  0.00] \n",
      "\n"
     ]
    },
    {
     "name": "stderr",
     "output_type": "stream",
     "text": [
      "\r",
      " 18%|█▊        | 55/300 [00:35<01:28,  2.76it/s]"
     ]
    },
    {
     "name": "stdout",
     "output_type": "stream",
     "text": [
      "E54 \n",
      "loss=[  0.05,  0.05] \n",
      "mse=[  0.00,  0.00] \n",
      "\n"
     ]
    },
    {
     "name": "stderr",
     "output_type": "stream",
     "text": [
      "\r",
      " 19%|█▊        | 56/300 [00:36<01:28,  2.76it/s]"
     ]
    },
    {
     "name": "stdout",
     "output_type": "stream",
     "text": [
      "E55 \n",
      "loss=[  0.04,  0.04] \n",
      "mse=[  0.00,  0.00] \n",
      "\n"
     ]
    },
    {
     "name": "stderr",
     "output_type": "stream",
     "text": [
      "\r",
      " 19%|█▉        | 57/300 [00:36<01:28,  2.76it/s]"
     ]
    },
    {
     "name": "stdout",
     "output_type": "stream",
     "text": [
      "E56 \n",
      "loss=[  0.03,  0.03] \n",
      "mse=[  0.00,  0.00] \n",
      "\n"
     ]
    },
    {
     "name": "stderr",
     "output_type": "stream",
     "text": [
      "\r",
      " 19%|█▉        | 58/300 [00:36<01:27,  2.75it/s]"
     ]
    },
    {
     "name": "stdout",
     "output_type": "stream",
     "text": [
      "E57 \n",
      "loss=[  0.03,  0.03] \n",
      "mse=[  0.00,  0.00] \n",
      "\n"
     ]
    },
    {
     "name": "stderr",
     "output_type": "stream",
     "text": [
      "\r",
      " 20%|█▉        | 59/300 [00:37<01:27,  2.75it/s]"
     ]
    },
    {
     "name": "stdout",
     "output_type": "stream",
     "text": [
      "E58 \n",
      "loss=[  0.03,  0.03] \n",
      "mse=[  0.00,  0.00] \n",
      "\n"
     ]
    },
    {
     "name": "stderr",
     "output_type": "stream",
     "text": [
      "\r",
      " 20%|██        | 60/300 [00:37<01:27,  2.75it/s]"
     ]
    },
    {
     "name": "stdout",
     "output_type": "stream",
     "text": [
      "E59 \n",
      "loss=[  0.02,  0.02] \n",
      "mse=[  0.00,  0.00] \n",
      "\n"
     ]
    },
    {
     "name": "stderr",
     "output_type": "stream",
     "text": [
      "\r",
      " 20%|██        | 61/300 [00:37<01:26,  2.75it/s]"
     ]
    },
    {
     "name": "stdout",
     "output_type": "stream",
     "text": [
      "E60 \n",
      "loss=[  0.02,  0.02] \n",
      "mse=[  0.00,  0.00] \n",
      "\n"
     ]
    },
    {
     "name": "stderr",
     "output_type": "stream",
     "text": [
      "\r",
      " 21%|██        | 62/300 [00:38<01:26,  2.75it/s]"
     ]
    },
    {
     "name": "stdout",
     "output_type": "stream",
     "text": [
      "E61 \n",
      "loss=[  0.02,  0.02] \n",
      "mse=[  0.00,  0.00] \n",
      "\n"
     ]
    },
    {
     "name": "stderr",
     "output_type": "stream",
     "text": [
      "\r",
      " 21%|██        | 63/300 [00:38<01:26,  2.75it/s]"
     ]
    },
    {
     "name": "stdout",
     "output_type": "stream",
     "text": [
      "E62 \n",
      "loss=[  0.02,  0.02] \n",
      "mse=[  0.00,  0.00] \n",
      "\n"
     ]
    },
    {
     "name": "stderr",
     "output_type": "stream",
     "text": [
      "\r",
      " 21%|██▏       | 64/300 [00:39<01:25,  2.75it/s]"
     ]
    },
    {
     "name": "stdout",
     "output_type": "stream",
     "text": [
      "E63 \n",
      "loss=[  0.02,  0.02] \n",
      "mse=[  0.00,  0.00] \n",
      "\n"
     ]
    },
    {
     "name": "stderr",
     "output_type": "stream",
     "text": [
      "\r",
      " 22%|██▏       | 65/300 [00:39<01:25,  2.74it/s]"
     ]
    },
    {
     "name": "stdout",
     "output_type": "stream",
     "text": [
      "E64 \n",
      "loss=[  0.02,  0.02] \n",
      "mse=[  0.00,  0.00] \n",
      "\n"
     ]
    },
    {
     "name": "stderr",
     "output_type": "stream",
     "text": [
      "\r",
      " 22%|██▏       | 66/300 [00:39<01:25,  2.74it/s]"
     ]
    },
    {
     "name": "stdout",
     "output_type": "stream",
     "text": [
      "E65 \n",
      "loss=[  0.02,  0.02] \n",
      "mse=[  0.00,  0.00] \n",
      "\n"
     ]
    },
    {
     "name": "stderr",
     "output_type": "stream",
     "text": [
      "\r",
      " 22%|██▏       | 67/300 [00:40<01:24,  2.74it/s]"
     ]
    },
    {
     "name": "stdout",
     "output_type": "stream",
     "text": [
      "E66 \n",
      "loss=[  0.02,  0.02] \n",
      "mse=[  0.00,  0.00] \n",
      "\n"
     ]
    },
    {
     "name": "stderr",
     "output_type": "stream",
     "text": [
      "\r",
      " 23%|██▎       | 68/300 [00:40<01:24,  2.75it/s]"
     ]
    },
    {
     "name": "stdout",
     "output_type": "stream",
     "text": [
      "E67 \n",
      "loss=[  0.03,  0.03] \n",
      "mse=[  0.00,  0.00] \n",
      "\n"
     ]
    },
    {
     "name": "stderr",
     "output_type": "stream",
     "text": [
      "\r",
      " 23%|██▎       | 69/300 [00:40<01:24,  2.75it/s]"
     ]
    },
    {
     "name": "stdout",
     "output_type": "stream",
     "text": [
      "E68 \n",
      "loss=[  0.03,  0.03] \n",
      "mse=[  0.00,  0.00] \n",
      "\n"
     ]
    },
    {
     "name": "stderr",
     "output_type": "stream",
     "text": [
      "\r",
      " 23%|██▎       | 70/300 [00:41<01:23,  2.75it/s]"
     ]
    },
    {
     "name": "stdout",
     "output_type": "stream",
     "text": [
      "E69 \n",
      "loss=[  0.03,  0.03] \n",
      "mse=[  0.00,  0.00] \n",
      "\n"
     ]
    },
    {
     "name": "stderr",
     "output_type": "stream",
     "text": [
      "\r",
      " 24%|██▎       | 71/300 [00:41<01:23,  2.75it/s]"
     ]
    },
    {
     "name": "stdout",
     "output_type": "stream",
     "text": [
      "E70 \n",
      "loss=[  0.03,  0.03] \n",
      "mse=[  0.00,  0.00] \n",
      "\n"
     ]
    },
    {
     "name": "stderr",
     "output_type": "stream",
     "text": [
      "\r",
      " 24%|██▍       | 72/300 [00:41<01:22,  2.75it/s]"
     ]
    },
    {
     "name": "stdout",
     "output_type": "stream",
     "text": [
      "E71 \n",
      "loss=[  0.02,  0.02] \n",
      "mse=[  0.00,  0.00] \n",
      "\n"
     ]
    },
    {
     "name": "stderr",
     "output_type": "stream",
     "text": [
      "\r",
      " 24%|██▍       | 73/300 [00:42<01:22,  2.75it/s]"
     ]
    },
    {
     "name": "stdout",
     "output_type": "stream",
     "text": [
      "E72 \n",
      "loss=[  0.01,  0.01] \n",
      "mse=[  0.00,  0.00] \n",
      "\n"
     ]
    },
    {
     "name": "stderr",
     "output_type": "stream",
     "text": [
      "\r",
      " 25%|██▍       | 74/300 [00:42<01:22,  2.75it/s]"
     ]
    },
    {
     "name": "stdout",
     "output_type": "stream",
     "text": [
      "E73 \n",
      "loss=[  0.03,  0.03] \n",
      "mse=[  0.00,  0.00] \n",
      "\n"
     ]
    },
    {
     "name": "stderr",
     "output_type": "stream",
     "text": [
      "\r",
      " 25%|██▌       | 75/300 [00:43<01:21,  2.75it/s]"
     ]
    },
    {
     "name": "stdout",
     "output_type": "stream",
     "text": [
      "E74 \n",
      "loss=[  0.02,  0.02] \n",
      "mse=[  0.00,  0.00] \n",
      "\n"
     ]
    },
    {
     "name": "stderr",
     "output_type": "stream",
     "text": [
      "\r",
      " 25%|██▌       | 76/300 [00:43<01:21,  2.75it/s]"
     ]
    },
    {
     "name": "stdout",
     "output_type": "stream",
     "text": [
      "E75 \n",
      "loss=[  0.02,  0.03] \n",
      "mse=[  0.00,  0.00] \n",
      "\n"
     ]
    },
    {
     "name": "stderr",
     "output_type": "stream",
     "text": [
      "\r",
      " 26%|██▌       | 77/300 [00:43<01:21,  2.75it/s]"
     ]
    },
    {
     "name": "stdout",
     "output_type": "stream",
     "text": [
      "E76 \n",
      "loss=[  0.01,  0.01] \n",
      "mse=[  0.00,  0.00] \n",
      "\n"
     ]
    },
    {
     "name": "stderr",
     "output_type": "stream",
     "text": [
      "\r",
      " 26%|██▌       | 78/300 [00:44<01:20,  2.75it/s]"
     ]
    },
    {
     "name": "stdout",
     "output_type": "stream",
     "text": [
      "E77 \n",
      "loss=[  0.01,  0.01] \n",
      "mse=[  0.00,  0.00] \n",
      "\n"
     ]
    },
    {
     "name": "stderr",
     "output_type": "stream",
     "text": [
      "\r",
      " 26%|██▋       | 79/300 [00:44<01:20,  2.75it/s]"
     ]
    },
    {
     "name": "stdout",
     "output_type": "stream",
     "text": [
      "E78 \n",
      "loss=[  0.02,  0.02] \n",
      "mse=[  0.00,  0.00] \n",
      "\n"
     ]
    },
    {
     "name": "stderr",
     "output_type": "stream",
     "text": [
      "\r",
      " 27%|██▋       | 80/300 [00:44<01:20,  2.75it/s]"
     ]
    },
    {
     "name": "stdout",
     "output_type": "stream",
     "text": [
      "E79 \n",
      "loss=[  0.03,  0.03] \n",
      "mse=[  0.00,  0.00] \n",
      "\n"
     ]
    },
    {
     "name": "stderr",
     "output_type": "stream",
     "text": [
      "\r",
      " 27%|██▋       | 81/300 [00:45<01:19,  2.75it/s]"
     ]
    },
    {
     "name": "stdout",
     "output_type": "stream",
     "text": [
      "E80 \n",
      "loss=[  0.01,  0.01] \n",
      "mse=[  0.00,  0.00] \n",
      "\n"
     ]
    },
    {
     "name": "stderr",
     "output_type": "stream",
     "text": [
      "\r",
      " 27%|██▋       | 82/300 [00:45<01:19,  2.75it/s]"
     ]
    },
    {
     "name": "stdout",
     "output_type": "stream",
     "text": [
      "E81 \n",
      "loss=[  0.01,  0.01] \n",
      "mse=[  0.00,  0.00] \n",
      "\n"
     ]
    },
    {
     "name": "stderr",
     "output_type": "stream",
     "text": [
      "\r",
      " 28%|██▊       | 83/300 [00:45<01:19,  2.75it/s]"
     ]
    },
    {
     "name": "stdout",
     "output_type": "stream",
     "text": [
      "E82 \n",
      "loss=[  0.01,  0.01] \n",
      "mse=[  0.00,  0.00] \n",
      "\n"
     ]
    },
    {
     "name": "stderr",
     "output_type": "stream",
     "text": [
      "\r",
      " 28%|██▊       | 84/300 [00:46<01:18,  2.74it/s]"
     ]
    },
    {
     "name": "stdout",
     "output_type": "stream",
     "text": [
      "E83 \n",
      "loss=[  0.01,  0.01] \n",
      "mse=[  0.00,  0.00] \n",
      "\n"
     ]
    },
    {
     "name": "stderr",
     "output_type": "stream",
     "text": [
      "\r",
      " 28%|██▊       | 85/300 [00:46<01:18,  2.74it/s]"
     ]
    },
    {
     "name": "stdout",
     "output_type": "stream",
     "text": [
      "E84 \n",
      "loss=[  0.02,  0.02] \n",
      "mse=[  0.00,  0.00] \n",
      "\n"
     ]
    },
    {
     "name": "stderr",
     "output_type": "stream",
     "text": [
      "\r",
      " 29%|██▊       | 86/300 [00:47<01:18,  2.74it/s]"
     ]
    },
    {
     "name": "stdout",
     "output_type": "stream",
     "text": [
      "E85 \n",
      "loss=[  0.02,  0.02] \n",
      "mse=[  0.00,  0.00] \n",
      "\n"
     ]
    },
    {
     "name": "stderr",
     "output_type": "stream",
     "text": [
      "\r",
      " 29%|██▉       | 87/300 [00:47<01:17,  2.74it/s]"
     ]
    },
    {
     "name": "stdout",
     "output_type": "stream",
     "text": [
      "E86 \n",
      "loss=[  0.02,  0.02] \n",
      "mse=[  0.00,  0.00] \n",
      "\n"
     ]
    },
    {
     "name": "stderr",
     "output_type": "stream",
     "text": [
      "\r",
      " 29%|██▉       | 88/300 [00:47<01:17,  2.74it/s]"
     ]
    },
    {
     "name": "stdout",
     "output_type": "stream",
     "text": [
      "E87 \n",
      "loss=[  0.01,  0.01] \n",
      "mse=[  0.00,  0.00] \n",
      "\n"
     ]
    },
    {
     "name": "stderr",
     "output_type": "stream",
     "text": [
      "\r",
      " 30%|██▉       | 89/300 [00:48<01:17,  2.74it/s]"
     ]
    },
    {
     "name": "stdout",
     "output_type": "stream",
     "text": [
      "E88 \n",
      "loss=[  0.02,  0.02] \n",
      "mse=[  0.00,  0.00] \n",
      "\n"
     ]
    },
    {
     "name": "stderr",
     "output_type": "stream",
     "text": [
      "\r",
      " 30%|███       | 90/300 [00:48<01:16,  2.74it/s]"
     ]
    },
    {
     "name": "stdout",
     "output_type": "stream",
     "text": [
      "E89 \n",
      "loss=[  0.02,  0.02] \n",
      "mse=[  0.00,  0.00] \n",
      "\n"
     ]
    },
    {
     "name": "stderr",
     "output_type": "stream",
     "text": [
      "\r",
      " 30%|███       | 91/300 [00:48<01:16,  2.74it/s]"
     ]
    },
    {
     "name": "stdout",
     "output_type": "stream",
     "text": [
      "E90 \n",
      "loss=[  0.01,  0.01] \n",
      "mse=[  0.00,  0.00] \n",
      "\n"
     ]
    },
    {
     "name": "stderr",
     "output_type": "stream",
     "text": [
      "\r",
      " 31%|███       | 92/300 [00:49<01:15,  2.74it/s]"
     ]
    },
    {
     "name": "stdout",
     "output_type": "stream",
     "text": [
      "E91 \n",
      "loss=[  0.02,  0.02] \n",
      "mse=[  0.00,  0.00] \n",
      "\n"
     ]
    },
    {
     "name": "stderr",
     "output_type": "stream",
     "text": [
      "\r",
      " 31%|███       | 93/300 [00:49<01:15,  2.74it/s]"
     ]
    },
    {
     "name": "stdout",
     "output_type": "stream",
     "text": [
      "E92 \n",
      "loss=[  0.02,  0.01] \n",
      "mse=[  0.00,  0.00] \n",
      "\n"
     ]
    },
    {
     "name": "stderr",
     "output_type": "stream",
     "text": [
      "\r",
      " 31%|███▏      | 94/300 [00:49<01:15,  2.74it/s]"
     ]
    },
    {
     "name": "stdout",
     "output_type": "stream",
     "text": [
      "E93 \n",
      "loss=[  0.02,  0.02] \n",
      "mse=[  0.00,  0.00] \n",
      "\n"
     ]
    },
    {
     "name": "stderr",
     "output_type": "stream",
     "text": [
      "\r",
      " 32%|███▏      | 95/300 [00:50<01:14,  2.74it/s]"
     ]
    },
    {
     "name": "stdout",
     "output_type": "stream",
     "text": [
      "E94 \n",
      "loss=[  0.03,  0.03] \n",
      "mse=[  0.00,  0.00] \n",
      "\n"
     ]
    },
    {
     "name": "stderr",
     "output_type": "stream",
     "text": [
      "\r",
      " 32%|███▏      | 96/300 [00:50<01:14,  2.73it/s]"
     ]
    },
    {
     "name": "stdout",
     "output_type": "stream",
     "text": [
      "E95 \n",
      "loss=[  0.02,  0.02] \n",
      "mse=[  0.00,  0.00] \n",
      "\n"
     ]
    },
    {
     "name": "stderr",
     "output_type": "stream",
     "text": [
      "\r",
      " 32%|███▏      | 97/300 [00:51<01:14,  2.73it/s]"
     ]
    },
    {
     "name": "stdout",
     "output_type": "stream",
     "text": [
      "E96 \n",
      "loss=[  0.03,  0.03] \n",
      "mse=[  0.00,  0.00] \n",
      "\n"
     ]
    },
    {
     "name": "stderr",
     "output_type": "stream",
     "text": [
      "\r",
      " 33%|███▎      | 98/300 [00:51<01:13,  2.73it/s]"
     ]
    },
    {
     "name": "stdout",
     "output_type": "stream",
     "text": [
      "E97 \n",
      "loss=[  0.03,  0.03] \n",
      "mse=[  0.00,  0.00] \n",
      "\n"
     ]
    },
    {
     "name": "stderr",
     "output_type": "stream",
     "text": [
      "\r",
      " 33%|███▎      | 99/300 [00:51<01:13,  2.73it/s]"
     ]
    },
    {
     "name": "stdout",
     "output_type": "stream",
     "text": [
      "E98 \n",
      "loss=[  0.03,  0.04] \n",
      "mse=[  0.00,  0.00] \n",
      "\n"
     ]
    },
    {
     "name": "stderr",
     "output_type": "stream",
     "text": [
      "\r",
      " 33%|███▎      | 100/300 [00:52<01:13,  2.73it/s]"
     ]
    },
    {
     "name": "stdout",
     "output_type": "stream",
     "text": [
      "E99 \n",
      "loss=[  0.04,  0.03] \n",
      "mse=[  0.00,  0.00] \n",
      "\n"
     ]
    },
    {
     "name": "stderr",
     "output_type": "stream",
     "text": [
      "\r",
      " 34%|███▎      | 101/300 [00:52<01:12,  2.73it/s]"
     ]
    },
    {
     "name": "stdout",
     "output_type": "stream",
     "text": [
      "E100 \n",
      "loss=[  0.02,  0.02] \n",
      "mse=[  0.00,  0.00] \n",
      "\n"
     ]
    },
    {
     "name": "stderr",
     "output_type": "stream",
     "text": [
      "\r",
      " 34%|███▍      | 102/300 [00:52<01:12,  2.73it/s]"
     ]
    },
    {
     "name": "stdout",
     "output_type": "stream",
     "text": [
      "E101 \n",
      "loss=[  0.01,  0.01] \n",
      "mse=[  0.00,  0.00] \n",
      "\n"
     ]
    },
    {
     "name": "stderr",
     "output_type": "stream",
     "text": [
      "\r",
      " 34%|███▍      | 103/300 [00:53<01:12,  2.73it/s]"
     ]
    },
    {
     "name": "stdout",
     "output_type": "stream",
     "text": [
      "E102 \n",
      "loss=[  0.01,  0.01] \n",
      "mse=[  0.00,  0.00] \n",
      "\n"
     ]
    },
    {
     "name": "stderr",
     "output_type": "stream",
     "text": [
      "\r",
      " 35%|███▍      | 104/300 [00:53<01:11,  2.73it/s]"
     ]
    },
    {
     "name": "stdout",
     "output_type": "stream",
     "text": [
      "E103 \n",
      "loss=[  0.01,  0.01] \n",
      "mse=[  0.00,  0.00] \n",
      "\n"
     ]
    },
    {
     "name": "stderr",
     "output_type": "stream",
     "text": [
      "\r",
      " 35%|███▌      | 105/300 [00:54<01:11,  2.73it/s]"
     ]
    },
    {
     "name": "stdout",
     "output_type": "stream",
     "text": [
      "E104 \n",
      "loss=[  0.01,  0.01] \n",
      "mse=[  0.00,  0.00] \n",
      "\n"
     ]
    },
    {
     "name": "stderr",
     "output_type": "stream",
     "text": [
      "\r",
      " 35%|███▌      | 106/300 [00:54<01:11,  2.73it/s]"
     ]
    },
    {
     "name": "stdout",
     "output_type": "stream",
     "text": [
      "E105 \n",
      "loss=[  0.01,  0.01] \n",
      "mse=[  0.00,  0.00] \n",
      "\n"
     ]
    },
    {
     "name": "stderr",
     "output_type": "stream",
     "text": [
      "\r",
      " 36%|███▌      | 107/300 [00:54<01:10,  2.73it/s]"
     ]
    },
    {
     "name": "stdout",
     "output_type": "stream",
     "text": [
      "E106 \n",
      "loss=[  0.01,  0.01] \n",
      "mse=[  0.00,  0.00] \n",
      "\n"
     ]
    },
    {
     "name": "stderr",
     "output_type": "stream",
     "text": [
      "\r",
      " 36%|███▌      | 108/300 [00:55<01:10,  2.73it/s]"
     ]
    },
    {
     "name": "stdout",
     "output_type": "stream",
     "text": [
      "E107 \n",
      "loss=[  0.01,  0.01] \n",
      "mse=[  0.00,  0.00] \n",
      "\n"
     ]
    },
    {
     "name": "stderr",
     "output_type": "stream",
     "text": [
      "\r",
      " 36%|███▋      | 109/300 [00:55<01:10,  2.73it/s]"
     ]
    },
    {
     "name": "stdout",
     "output_type": "stream",
     "text": [
      "E108 \n",
      "loss=[  0.01,  0.01] \n",
      "mse=[  0.00,  0.00] \n",
      "\n"
     ]
    },
    {
     "name": "stderr",
     "output_type": "stream",
     "text": [
      "\r",
      " 37%|███▋      | 110/300 [00:55<01:09,  2.73it/s]"
     ]
    },
    {
     "name": "stdout",
     "output_type": "stream",
     "text": [
      "E109 \n",
      "loss=[  0.01,  0.01] \n",
      "mse=[  0.00,  0.00] \n",
      "\n"
     ]
    },
    {
     "name": "stderr",
     "output_type": "stream",
     "text": [
      "\r",
      " 37%|███▋      | 111/300 [00:56<01:09,  2.72it/s]"
     ]
    },
    {
     "name": "stdout",
     "output_type": "stream",
     "text": [
      "E110 \n",
      "loss=[  0.01,  0.01] \n",
      "mse=[  0.00,  0.00] \n",
      "\n"
     ]
    },
    {
     "name": "stderr",
     "output_type": "stream",
     "text": [
      "\r",
      " 37%|███▋      | 112/300 [00:56<01:08,  2.72it/s]"
     ]
    },
    {
     "name": "stdout",
     "output_type": "stream",
     "text": [
      "E111 \n",
      "loss=[  0.01,  0.01] \n",
      "mse=[  0.00,  0.00] \n",
      "\n"
     ]
    },
    {
     "name": "stderr",
     "output_type": "stream",
     "text": [
      "\r",
      " 38%|███▊      | 113/300 [00:56<01:08,  2.72it/s]"
     ]
    },
    {
     "name": "stdout",
     "output_type": "stream",
     "text": [
      "E112 \n",
      "loss=[  0.01,  0.01] \n",
      "mse=[  0.00,  0.00] \n",
      "\n"
     ]
    },
    {
     "name": "stderr",
     "output_type": "stream",
     "text": [
      "\r",
      " 38%|███▊      | 114/300 [00:57<01:08,  2.72it/s]"
     ]
    },
    {
     "name": "stdout",
     "output_type": "stream",
     "text": [
      "E113 \n",
      "loss=[  0.01,  0.01] \n",
      "mse=[  0.00,  0.00] \n",
      "\n"
     ]
    },
    {
     "name": "stderr",
     "output_type": "stream",
     "text": [
      "\r",
      " 38%|███▊      | 115/300 [00:57<01:07,  2.72it/s]"
     ]
    },
    {
     "name": "stdout",
     "output_type": "stream",
     "text": [
      "E114 \n",
      "loss=[  0.01,  0.01] \n",
      "mse=[  0.00,  0.00] \n",
      "\n"
     ]
    },
    {
     "name": "stderr",
     "output_type": "stream",
     "text": [
      "\r",
      " 39%|███▊      | 116/300 [00:58<01:07,  2.72it/s]"
     ]
    },
    {
     "name": "stdout",
     "output_type": "stream",
     "text": [
      "E115 \n",
      "loss=[  0.01,  0.01] \n",
      "mse=[  0.00,  0.00] \n",
      "\n"
     ]
    },
    {
     "name": "stderr",
     "output_type": "stream",
     "text": [
      "\r",
      " 39%|███▉      | 117/300 [00:58<01:07,  2.72it/s]"
     ]
    },
    {
     "name": "stdout",
     "output_type": "stream",
     "text": [
      "E116 \n",
      "loss=[  0.01,  0.01] \n",
      "mse=[  0.00,  0.00] \n",
      "\n"
     ]
    },
    {
     "name": "stderr",
     "output_type": "stream",
     "text": [
      "\r",
      " 39%|███▉      | 118/300 [00:58<01:06,  2.72it/s]"
     ]
    },
    {
     "name": "stdout",
     "output_type": "stream",
     "text": [
      "E117 \n",
      "loss=[  0.01,  0.01] \n",
      "mse=[  0.00,  0.00] \n",
      "\n"
     ]
    },
    {
     "name": "stderr",
     "output_type": "stream",
     "text": [
      "\r",
      " 40%|███▉      | 119/300 [00:59<01:06,  2.72it/s]"
     ]
    },
    {
     "name": "stdout",
     "output_type": "stream",
     "text": [
      "E118 \n",
      "loss=[  0.01,  0.01] \n",
      "mse=[  0.00,  0.00] \n",
      "\n"
     ]
    },
    {
     "name": "stderr",
     "output_type": "stream",
     "text": [
      "\r",
      " 40%|████      | 120/300 [00:59<01:06,  2.72it/s]"
     ]
    },
    {
     "name": "stdout",
     "output_type": "stream",
     "text": [
      "E119 \n",
      "loss=[  0.01,  0.01] \n",
      "mse=[  0.00,  0.00] \n",
      "\n"
     ]
    },
    {
     "name": "stderr",
     "output_type": "stream",
     "text": [
      "\r",
      " 40%|████      | 121/300 [00:59<01:05,  2.72it/s]"
     ]
    },
    {
     "name": "stdout",
     "output_type": "stream",
     "text": [
      "E120 \n",
      "loss=[  0.01,  0.01] \n",
      "mse=[  0.00,  0.00] \n",
      "\n"
     ]
    },
    {
     "name": "stderr",
     "output_type": "stream",
     "text": [
      "\r",
      " 41%|████      | 122/300 [01:00<01:05,  2.72it/s]"
     ]
    },
    {
     "name": "stdout",
     "output_type": "stream",
     "text": [
      "E121 \n",
      "loss=[  0.01,  0.01] \n",
      "mse=[  0.00,  0.00] \n",
      "\n"
     ]
    },
    {
     "name": "stderr",
     "output_type": "stream",
     "text": [
      "\r",
      " 41%|████      | 123/300 [01:00<01:05,  2.72it/s]"
     ]
    },
    {
     "name": "stdout",
     "output_type": "stream",
     "text": [
      "E122 \n",
      "loss=[  0.01,  0.01] \n",
      "mse=[  0.00,  0.00] \n",
      "\n"
     ]
    },
    {
     "name": "stderr",
     "output_type": "stream",
     "text": [
      "\r",
      " 41%|████▏     | 124/300 [01:01<01:04,  2.72it/s]"
     ]
    },
    {
     "name": "stdout",
     "output_type": "stream",
     "text": [
      "E123 \n",
      "loss=[  0.01,  0.01] \n",
      "mse=[  0.00,  0.00] \n",
      "\n"
     ]
    },
    {
     "name": "stderr",
     "output_type": "stream",
     "text": [
      "\r",
      " 42%|████▏     | 125/300 [01:01<01:04,  2.72it/s]"
     ]
    },
    {
     "name": "stdout",
     "output_type": "stream",
     "text": [
      "E124 \n",
      "loss=[  0.01,  0.01] \n",
      "mse=[  0.00,  0.00] \n",
      "\n"
     ]
    },
    {
     "name": "stderr",
     "output_type": "stream",
     "text": [
      "\r",
      " 42%|████▏     | 126/300 [01:01<01:04,  2.72it/s]"
     ]
    },
    {
     "name": "stdout",
     "output_type": "stream",
     "text": [
      "E125 \n",
      "loss=[  0.01,  0.01] \n",
      "mse=[  0.00,  0.00] \n",
      "\n"
     ]
    },
    {
     "name": "stderr",
     "output_type": "stream",
     "text": [
      "\r",
      " 42%|████▏     | 127/300 [01:02<01:03,  2.72it/s]"
     ]
    },
    {
     "name": "stdout",
     "output_type": "stream",
     "text": [
      "E126 \n",
      "loss=[  0.01,  0.01] \n",
      "mse=[  0.00,  0.00] \n",
      "\n"
     ]
    },
    {
     "name": "stderr",
     "output_type": "stream",
     "text": [
      "\r",
      " 43%|████▎     | 128/300 [01:02<01:03,  2.72it/s]"
     ]
    },
    {
     "name": "stdout",
     "output_type": "stream",
     "text": [
      "E127 \n",
      "loss=[  0.01,  0.01] \n",
      "mse=[  0.00,  0.00] \n",
      "\n"
     ]
    },
    {
     "name": "stderr",
     "output_type": "stream",
     "text": [
      "\r",
      " 43%|████▎     | 129/300 [01:02<01:02,  2.72it/s]"
     ]
    },
    {
     "name": "stdout",
     "output_type": "stream",
     "text": [
      "E128 \n",
      "loss=[  0.01,  0.01] \n",
      "mse=[  0.00,  0.00] \n",
      "\n"
     ]
    },
    {
     "name": "stderr",
     "output_type": "stream",
     "text": [
      "\r",
      " 43%|████▎     | 130/300 [01:03<01:02,  2.72it/s]"
     ]
    },
    {
     "name": "stdout",
     "output_type": "stream",
     "text": [
      "E129 \n",
      "loss=[  0.02,  0.02] \n",
      "mse=[  0.00,  0.00] \n",
      "\n"
     ]
    },
    {
     "name": "stderr",
     "output_type": "stream",
     "text": [
      "\r",
      " 44%|████▎     | 131/300 [01:03<01:02,  2.71it/s]"
     ]
    },
    {
     "name": "stdout",
     "output_type": "stream",
     "text": [
      "E130 \n",
      "loss=[  0.01,  0.01] \n",
      "mse=[  0.00,  0.00] \n",
      "\n"
     ]
    },
    {
     "name": "stderr",
     "output_type": "stream",
     "text": [
      "\r",
      " 44%|████▍     | 132/300 [01:03<01:01,  2.71it/s]"
     ]
    },
    {
     "name": "stdout",
     "output_type": "stream",
     "text": [
      "E131 \n",
      "loss=[  0.01,  0.01] \n",
      "mse=[  0.00,  0.00] \n",
      "\n"
     ]
    },
    {
     "name": "stderr",
     "output_type": "stream",
     "text": [
      "\r",
      " 44%|████▍     | 133/300 [01:04<01:01,  2.71it/s]"
     ]
    },
    {
     "name": "stdout",
     "output_type": "stream",
     "text": [
      "E132 \n",
      "loss=[  0.01,  0.01] \n",
      "mse=[  0.00,  0.00] \n",
      "\n"
     ]
    },
    {
     "name": "stderr",
     "output_type": "stream",
     "text": [
      "\r",
      " 45%|████▍     | 134/300 [01:04<01:01,  2.72it/s]"
     ]
    },
    {
     "name": "stdout",
     "output_type": "stream",
     "text": [
      "E133 \n",
      "loss=[  0.01,  0.01] \n",
      "mse=[  0.00,  0.00] \n",
      "\n"
     ]
    },
    {
     "name": "stderr",
     "output_type": "stream",
     "text": [
      "\r",
      " 45%|████▌     | 135/300 [01:05<01:00,  2.71it/s]"
     ]
    },
    {
     "name": "stdout",
     "output_type": "stream",
     "text": [
      "E134 \n",
      "loss=[  0.01,  0.01] \n",
      "mse=[  0.00,  0.00] \n",
      "\n"
     ]
    },
    {
     "name": "stderr",
     "output_type": "stream",
     "text": [
      "\r",
      " 45%|████▌     | 136/300 [01:05<01:00,  2.71it/s]"
     ]
    },
    {
     "name": "stdout",
     "output_type": "stream",
     "text": [
      "E135 \n",
      "loss=[  0.01,  0.01] \n",
      "mse=[  0.00,  0.00] \n",
      "\n"
     ]
    },
    {
     "name": "stderr",
     "output_type": "stream",
     "text": [
      "\r",
      " 46%|████▌     | 137/300 [01:05<01:00,  2.71it/s]"
     ]
    },
    {
     "name": "stdout",
     "output_type": "stream",
     "text": [
      "E136 \n",
      "loss=[  0.01,  0.01] \n",
      "mse=[  0.00,  0.00] \n",
      "\n"
     ]
    },
    {
     "name": "stderr",
     "output_type": "stream",
     "text": [
      "\r",
      " 46%|████▌     | 138/300 [01:06<00:59,  2.71it/s]"
     ]
    },
    {
     "name": "stdout",
     "output_type": "stream",
     "text": [
      "E137 \n",
      "loss=[  0.01,  0.01] \n",
      "mse=[  0.00,  0.00] \n",
      "\n"
     ]
    },
    {
     "name": "stderr",
     "output_type": "stream",
     "text": [
      "\r",
      " 46%|████▋     | 139/300 [01:06<00:59,  2.71it/s]"
     ]
    },
    {
     "name": "stdout",
     "output_type": "stream",
     "text": [
      "E138 \n",
      "loss=[  0.01,  0.01] \n",
      "mse=[  0.00,  0.00] \n",
      "\n"
     ]
    },
    {
     "name": "stderr",
     "output_type": "stream",
     "text": [
      "\r",
      " 47%|████▋     | 140/300 [01:06<00:58,  2.71it/s]"
     ]
    },
    {
     "name": "stdout",
     "output_type": "stream",
     "text": [
      "E139 \n",
      "loss=[  0.01,  0.01] \n",
      "mse=[  0.00,  0.00] \n",
      "\n"
     ]
    },
    {
     "name": "stderr",
     "output_type": "stream",
     "text": [
      "\r",
      " 47%|████▋     | 141/300 [01:07<00:58,  2.71it/s]"
     ]
    },
    {
     "name": "stdout",
     "output_type": "stream",
     "text": [
      "E140 \n",
      "loss=[  0.01,  0.01] \n",
      "mse=[  0.00,  0.00] \n",
      "\n"
     ]
    },
    {
     "name": "stderr",
     "output_type": "stream",
     "text": [
      "\r",
      " 47%|████▋     | 142/300 [01:07<00:58,  2.71it/s]"
     ]
    },
    {
     "name": "stdout",
     "output_type": "stream",
     "text": [
      "E141 \n",
      "loss=[  0.01,  0.01] \n",
      "mse=[  0.00,  0.00] \n",
      "\n"
     ]
    },
    {
     "name": "stderr",
     "output_type": "stream",
     "text": [
      "\r",
      " 48%|████▊     | 143/300 [01:08<00:57,  2.71it/s]"
     ]
    },
    {
     "name": "stdout",
     "output_type": "stream",
     "text": [
      "E142 \n",
      "loss=[  0.01,  0.01] \n",
      "mse=[  0.00,  0.00] \n",
      "\n"
     ]
    },
    {
     "name": "stderr",
     "output_type": "stream",
     "text": [
      "\r",
      " 48%|████▊     | 144/300 [01:08<00:57,  2.71it/s]"
     ]
    },
    {
     "name": "stdout",
     "output_type": "stream",
     "text": [
      "E143 \n",
      "loss=[  0.01,  0.01] \n",
      "mse=[  0.00,  0.00] \n",
      "\n"
     ]
    },
    {
     "name": "stderr",
     "output_type": "stream",
     "text": [
      "\r",
      " 48%|████▊     | 145/300 [01:08<00:57,  2.72it/s]"
     ]
    },
    {
     "name": "stdout",
     "output_type": "stream",
     "text": [
      "E144 \n",
      "loss=[  0.01,  0.01] \n",
      "mse=[  0.00,  0.00] \n",
      "\n"
     ]
    },
    {
     "name": "stderr",
     "output_type": "stream",
     "text": [
      "\r",
      " 49%|████▊     | 146/300 [01:09<00:56,  2.72it/s]"
     ]
    },
    {
     "name": "stdout",
     "output_type": "stream",
     "text": [
      "E145 \n",
      "loss=[  0.01,  0.01] \n",
      "mse=[  0.00,  0.00] \n",
      "\n"
     ]
    },
    {
     "name": "stderr",
     "output_type": "stream",
     "text": [
      "\r",
      " 49%|████▉     | 147/300 [01:09<00:56,  2.71it/s]"
     ]
    },
    {
     "name": "stdout",
     "output_type": "stream",
     "text": [
      "E146 \n",
      "loss=[  0.01,  0.01] \n",
      "mse=[  0.00,  0.00] \n",
      "\n"
     ]
    },
    {
     "name": "stderr",
     "output_type": "stream",
     "text": [
      "\r",
      " 49%|████▉     | 148/300 [01:09<00:56,  2.71it/s]"
     ]
    },
    {
     "name": "stdout",
     "output_type": "stream",
     "text": [
      "E147 \n",
      "loss=[  0.01,  0.01] \n",
      "mse=[  0.00,  0.00] \n",
      "\n"
     ]
    },
    {
     "name": "stderr",
     "output_type": "stream",
     "text": [
      "\r",
      " 50%|████▉     | 149/300 [01:10<00:55,  2.71it/s]"
     ]
    },
    {
     "name": "stdout",
     "output_type": "stream",
     "text": [
      "E148 \n",
      "loss=[  0.01,  0.01] \n",
      "mse=[  0.00,  0.00] \n",
      "\n"
     ]
    },
    {
     "name": "stderr",
     "output_type": "stream",
     "text": [
      "\r",
      " 50%|█████     | 150/300 [01:10<00:55,  2.71it/s]"
     ]
    },
    {
     "name": "stdout",
     "output_type": "stream",
     "text": [
      "E149 \n",
      "loss=[  0.01,  0.01] \n",
      "mse=[  0.00,  0.00] \n",
      "\n"
     ]
    },
    {
     "name": "stderr",
     "output_type": "stream",
     "text": [
      "\r",
      " 50%|█████     | 151/300 [01:10<00:54,  2.71it/s]"
     ]
    },
    {
     "name": "stdout",
     "output_type": "stream",
     "text": [
      "E150 \n",
      "loss=[  0.01,  0.01] \n",
      "mse=[  0.00,  0.00] \n",
      "\n"
     ]
    },
    {
     "name": "stderr",
     "output_type": "stream",
     "text": [
      "\r",
      " 51%|█████     | 152/300 [01:11<00:54,  2.71it/s]"
     ]
    },
    {
     "name": "stdout",
     "output_type": "stream",
     "text": [
      "E151 \n",
      "loss=[  0.01,  0.01] \n",
      "mse=[  0.00,  0.00] \n",
      "\n"
     ]
    },
    {
     "name": "stderr",
     "output_type": "stream",
     "text": [
      "\r",
      " 51%|█████     | 153/300 [01:11<00:54,  2.70it/s]"
     ]
    },
    {
     "name": "stdout",
     "output_type": "stream",
     "text": [
      "E152 \n",
      "loss=[  0.01,  0.01] \n",
      "mse=[  0.00,  0.00] \n",
      "\n"
     ]
    },
    {
     "name": "stderr",
     "output_type": "stream",
     "text": [
      "\r",
      " 51%|█████▏    | 154/300 [01:12<00:54,  2.70it/s]"
     ]
    },
    {
     "name": "stdout",
     "output_type": "stream",
     "text": [
      "E153 \n",
      "loss=[  0.01,  0.01] \n",
      "mse=[  0.00,  0.00] \n",
      "\n"
     ]
    },
    {
     "name": "stderr",
     "output_type": "stream",
     "text": [
      "\r",
      " 52%|█████▏    | 155/300 [01:12<00:53,  2.70it/s]"
     ]
    },
    {
     "name": "stdout",
     "output_type": "stream",
     "text": [
      "E154 \n",
      "loss=[  0.01,  0.01] \n",
      "mse=[  0.00,  0.00] \n",
      "\n"
     ]
    },
    {
     "name": "stderr",
     "output_type": "stream",
     "text": [
      "\r",
      " 52%|█████▏    | 156/300 [01:12<00:53,  2.70it/s]"
     ]
    },
    {
     "name": "stdout",
     "output_type": "stream",
     "text": [
      "E155 \n",
      "loss=[  0.01,  0.01] \n",
      "mse=[  0.00,  0.00] \n",
      "\n"
     ]
    },
    {
     "name": "stderr",
     "output_type": "stream",
     "text": [
      "\r",
      " 52%|█████▏    | 157/300 [01:13<00:53,  2.69it/s]"
     ]
    },
    {
     "name": "stdout",
     "output_type": "stream",
     "text": [
      "E156 \n",
      "loss=[  0.01,  0.01] \n",
      "mse=[  0.00,  0.00] \n",
      "\n"
     ]
    },
    {
     "name": "stderr",
     "output_type": "stream",
     "text": [
      "\r",
      " 53%|█████▎    | 158/300 [01:13<00:52,  2.69it/s]"
     ]
    },
    {
     "name": "stdout",
     "output_type": "stream",
     "text": [
      "E157 \n",
      "loss=[  0.01,  0.01] \n",
      "mse=[  0.00,  0.00] \n",
      "\n"
     ]
    },
    {
     "name": "stderr",
     "output_type": "stream",
     "text": [
      "\r",
      " 53%|█████▎    | 159/300 [01:13<00:52,  2.69it/s]"
     ]
    },
    {
     "name": "stdout",
     "output_type": "stream",
     "text": [
      "E158 \n",
      "loss=[  0.01,  0.01] \n",
      "mse=[  0.00,  0.00] \n",
      "\n"
     ]
    },
    {
     "name": "stderr",
     "output_type": "stream",
     "text": [
      "\r",
      " 53%|█████▎    | 160/300 [01:14<00:52,  2.69it/s]"
     ]
    },
    {
     "name": "stdout",
     "output_type": "stream",
     "text": [
      "E159 \n",
      "loss=[  0.01,  0.01] \n",
      "mse=[  0.00,  0.00] \n",
      "\n"
     ]
    },
    {
     "name": "stderr",
     "output_type": "stream",
     "text": [
      "\r",
      " 54%|█████▎    | 161/300 [01:14<00:51,  2.68it/s]"
     ]
    },
    {
     "name": "stdout",
     "output_type": "stream",
     "text": [
      "E160 \n",
      "loss=[  0.01,  0.01] \n",
      "mse=[  0.00,  0.00] \n",
      "\n"
     ]
    },
    {
     "name": "stderr",
     "output_type": "stream",
     "text": [
      "\r",
      " 54%|█████▍    | 162/300 [01:15<00:51,  2.69it/s]"
     ]
    },
    {
     "name": "stdout",
     "output_type": "stream",
     "text": [
      "E161 \n",
      "loss=[  0.01,  0.01] \n",
      "mse=[  0.00,  0.00] \n",
      "\n"
     ]
    },
    {
     "name": "stderr",
     "output_type": "stream",
     "text": [
      "\r",
      " 54%|█████▍    | 163/300 [01:15<00:51,  2.67it/s]"
     ]
    },
    {
     "name": "stdout",
     "output_type": "stream",
     "text": [
      "E162 \n",
      "loss=[  0.01,  0.01] \n",
      "mse=[  0.00,  0.00] \n",
      "\n"
     ]
    },
    {
     "name": "stderr",
     "output_type": "stream",
     "text": [
      "\r",
      " 55%|█████▍    | 164/300 [01:15<00:50,  2.68it/s]"
     ]
    },
    {
     "name": "stdout",
     "output_type": "stream",
     "text": [
      "E163 \n",
      "loss=[  0.01,  0.01] \n",
      "mse=[  0.00,  0.00] \n",
      "\n"
     ]
    },
    {
     "name": "stderr",
     "output_type": "stream",
     "text": [
      "\r",
      " 55%|█████▌    | 165/300 [01:16<00:50,  2.67it/s]"
     ]
    },
    {
     "name": "stdout",
     "output_type": "stream",
     "text": [
      "E164 \n",
      "loss=[  0.01,  0.01] \n",
      "mse=[  0.00,  0.00] \n",
      "\n"
     ]
    },
    {
     "name": "stderr",
     "output_type": "stream",
     "text": [
      "\r",
      " 55%|█████▌    | 166/300 [01:16<00:50,  2.67it/s]"
     ]
    },
    {
     "name": "stdout",
     "output_type": "stream",
     "text": [
      "E165 \n",
      "loss=[  0.01,  0.01] \n",
      "mse=[  0.00,  0.00] \n",
      "\n"
     ]
    },
    {
     "name": "stderr",
     "output_type": "stream",
     "text": [
      "\r",
      " 56%|█████▌    | 167/300 [01:16<00:49,  2.67it/s]"
     ]
    },
    {
     "name": "stdout",
     "output_type": "stream",
     "text": [
      "E166 \n",
      "loss=[  0.01,  0.01] \n",
      "mse=[  0.00,  0.00] \n",
      "\n"
     ]
    },
    {
     "name": "stderr",
     "output_type": "stream",
     "text": [
      "\r",
      " 56%|█████▌    | 168/300 [01:17<00:49,  2.66it/s]"
     ]
    },
    {
     "name": "stdout",
     "output_type": "stream",
     "text": [
      "E167 \n",
      "loss=[  0.01,  0.01] \n",
      "mse=[  0.00,  0.00] \n",
      "\n"
     ]
    },
    {
     "name": "stderr",
     "output_type": "stream",
     "text": [
      "\r",
      " 56%|█████▋    | 169/300 [01:17<00:49,  2.67it/s]"
     ]
    },
    {
     "name": "stdout",
     "output_type": "stream",
     "text": [
      "E168 \n",
      "loss=[  0.01,  0.01] \n",
      "mse=[  0.00,  0.00] \n",
      "\n"
     ]
    },
    {
     "name": "stderr",
     "output_type": "stream",
     "text": [
      "\r",
      " 57%|█████▋    | 170/300 [01:18<00:48,  2.66it/s]"
     ]
    },
    {
     "name": "stdout",
     "output_type": "stream",
     "text": [
      "E169 \n",
      "loss=[  0.01,  0.01] \n",
      "mse=[  0.00,  0.00] \n",
      "\n"
     ]
    },
    {
     "name": "stderr",
     "output_type": "stream",
     "text": [
      "\r",
      " 57%|█████▋    | 171/300 [01:18<00:48,  2.67it/s]"
     ]
    },
    {
     "name": "stdout",
     "output_type": "stream",
     "text": [
      "E170 \n",
      "loss=[  0.01,  0.01] \n",
      "mse=[  0.00,  0.00] \n",
      "\n"
     ]
    },
    {
     "name": "stderr",
     "output_type": "stream",
     "text": [
      "\r",
      " 57%|█████▋    | 172/300 [01:18<00:47,  2.67it/s]"
     ]
    },
    {
     "name": "stdout",
     "output_type": "stream",
     "text": [
      "E171 \n",
      "loss=[  0.01,  0.01] \n",
      "mse=[  0.00,  0.00] \n",
      "\n"
     ]
    },
    {
     "name": "stderr",
     "output_type": "stream",
     "text": [
      "\r",
      " 58%|█████▊    | 173/300 [01:19<00:47,  2.65it/s]"
     ]
    },
    {
     "name": "stdout",
     "output_type": "stream",
     "text": [
      "E172 \n",
      "loss=[  0.01,  0.01] \n",
      "mse=[  0.00,  0.00] \n",
      "\n"
     ]
    },
    {
     "name": "stderr",
     "output_type": "stream",
     "text": [
      "\r",
      " 58%|█████▊    | 174/300 [01:19<00:47,  2.67it/s]"
     ]
    },
    {
     "name": "stdout",
     "output_type": "stream",
     "text": [
      "E173 \n",
      "loss=[  0.01,  0.01] \n",
      "mse=[  0.00,  0.00] \n",
      "\n"
     ]
    },
    {
     "name": "stderr",
     "output_type": "stream",
     "text": [
      "\r",
      " 58%|█████▊    | 175/300 [01:19<00:47,  2.66it/s]"
     ]
    },
    {
     "name": "stdout",
     "output_type": "stream",
     "text": [
      "E174 \n",
      "loss=[  0.01,  0.01] \n",
      "mse=[  0.00,  0.00] \n",
      "\n"
     ]
    },
    {
     "name": "stderr",
     "output_type": "stream",
     "text": [
      "\r",
      " 59%|█████▊    | 176/300 [01:20<00:46,  2.67it/s]"
     ]
    },
    {
     "name": "stdout",
     "output_type": "stream",
     "text": [
      "E175 \n",
      "loss=[  0.01,  0.01] \n",
      "mse=[  0.00,  0.00] \n",
      "\n"
     ]
    },
    {
     "name": "stderr",
     "output_type": "stream",
     "text": [
      "\r",
      " 59%|█████▉    | 177/300 [01:20<00:46,  2.67it/s]"
     ]
    },
    {
     "name": "stdout",
     "output_type": "stream",
     "text": [
      "E176 \n",
      "loss=[  0.01,  0.01] \n",
      "mse=[  0.00,  0.00] \n",
      "\n"
     ]
    },
    {
     "name": "stderr",
     "output_type": "stream",
     "text": [
      "\r",
      " 59%|█████▉    | 178/300 [01:21<00:45,  2.65it/s]"
     ]
    },
    {
     "name": "stdout",
     "output_type": "stream",
     "text": [
      "E177 \n",
      "loss=[  0.01,  0.01] \n",
      "mse=[  0.00,  0.00] \n",
      "\n"
     ]
    },
    {
     "name": "stderr",
     "output_type": "stream",
     "text": [
      "\r",
      " 60%|█████▉    | 179/300 [01:21<00:45,  2.66it/s]"
     ]
    },
    {
     "name": "stdout",
     "output_type": "stream",
     "text": [
      "E178 \n",
      "loss=[  0.01,  0.01] \n",
      "mse=[  0.00,  0.00] \n",
      "\n"
     ]
    },
    {
     "name": "stderr",
     "output_type": "stream",
     "text": [
      "\r",
      " 60%|██████    | 180/300 [01:21<00:45,  2.66it/s]"
     ]
    },
    {
     "name": "stdout",
     "output_type": "stream",
     "text": [
      "E179 \n",
      "loss=[  0.01,  0.01] \n",
      "mse=[  0.00,  0.00] \n",
      "\n"
     ]
    },
    {
     "name": "stderr",
     "output_type": "stream",
     "text": [
      "\r",
      " 60%|██████    | 181/300 [01:22<00:45,  2.64it/s]"
     ]
    },
    {
     "name": "stdout",
     "output_type": "stream",
     "text": [
      "E180 \n",
      "loss=[  0.01,  0.01] \n",
      "mse=[  0.00,  0.00] \n",
      "\n"
     ]
    },
    {
     "name": "stderr",
     "output_type": "stream",
     "text": [
      "\r",
      " 61%|██████    | 182/300 [01:22<00:44,  2.66it/s]"
     ]
    },
    {
     "name": "stdout",
     "output_type": "stream",
     "text": [
      "E181 \n",
      "loss=[  0.01,  0.01] \n",
      "mse=[  0.00,  0.00] \n",
      "\n"
     ]
    },
    {
     "name": "stderr",
     "output_type": "stream",
     "text": [
      "\r",
      " 61%|██████    | 183/300 [01:22<00:44,  2.65it/s]"
     ]
    },
    {
     "name": "stdout",
     "output_type": "stream",
     "text": [
      "E182 \n",
      "loss=[  0.01,  0.01] \n",
      "mse=[  0.00,  0.00] \n",
      "\n"
     ]
    },
    {
     "name": "stderr",
     "output_type": "stream",
     "text": [
      "\r",
      " 61%|██████▏   | 184/300 [01:23<00:43,  2.64it/s]"
     ]
    },
    {
     "name": "stdout",
     "output_type": "stream",
     "text": [
      "E183 \n",
      "loss=[  0.01,  0.01] \n",
      "mse=[  0.00,  0.00] \n",
      "\n"
     ]
    },
    {
     "name": "stderr",
     "output_type": "stream",
     "text": [
      "\r",
      " 62%|██████▏   | 185/300 [01:23<00:43,  2.63it/s]"
     ]
    },
    {
     "name": "stdout",
     "output_type": "stream",
     "text": [
      "E184 \n",
      "loss=[  0.01,  0.01] \n",
      "mse=[  0.00,  0.00] \n",
      "\n"
     ]
    },
    {
     "name": "stderr",
     "output_type": "stream",
     "text": [
      "\r",
      " 62%|██████▏   | 186/300 [01:24<00:42,  2.65it/s]"
     ]
    },
    {
     "name": "stdout",
     "output_type": "stream",
     "text": [
      "E185 \n",
      "loss=[  0.01,  0.01] \n",
      "mse=[  0.00,  0.00] \n",
      "\n"
     ]
    },
    {
     "name": "stderr",
     "output_type": "stream",
     "text": [
      "\r",
      " 62%|██████▏   | 187/300 [01:24<00:42,  2.64it/s]"
     ]
    },
    {
     "name": "stdout",
     "output_type": "stream",
     "text": [
      "E186 \n",
      "loss=[  0.01,  0.01] \n",
      "mse=[  0.00,  0.00] \n",
      "\n"
     ]
    },
    {
     "name": "stderr",
     "output_type": "stream",
     "text": [
      "\r",
      " 63%|██████▎   | 188/300 [01:24<00:42,  2.62it/s]"
     ]
    },
    {
     "name": "stdout",
     "output_type": "stream",
     "text": [
      "E187 \n",
      "loss=[  0.01,  0.01] \n",
      "mse=[  0.00,  0.00] \n",
      "\n"
     ]
    },
    {
     "name": "stderr",
     "output_type": "stream",
     "text": [
      "\r",
      " 63%|██████▎   | 189/300 [01:25<00:42,  2.62it/s]"
     ]
    },
    {
     "name": "stdout",
     "output_type": "stream",
     "text": [
      "E188 \n",
      "loss=[  0.02,  0.02] \n",
      "mse=[  0.00,  0.00] \n",
      "\n"
     ]
    },
    {
     "name": "stderr",
     "output_type": "stream",
     "text": [
      "\r",
      " 63%|██████▎   | 190/300 [01:25<00:42,  2.61it/s]"
     ]
    },
    {
     "name": "stdout",
     "output_type": "stream",
     "text": [
      "E189 \n",
      "loss=[  0.01,  0.01] \n",
      "mse=[  0.00,  0.00] \n",
      "\n"
     ]
    },
    {
     "name": "stderr",
     "output_type": "stream",
     "text": [
      "\r",
      " 64%|██████▎   | 191/300 [01:25<00:41,  2.61it/s]"
     ]
    },
    {
     "name": "stdout",
     "output_type": "stream",
     "text": [
      "E190 \n",
      "loss=[  0.01,  0.01] \n",
      "mse=[  0.00,  0.00] \n",
      "\n"
     ]
    },
    {
     "name": "stderr",
     "output_type": "stream",
     "text": [
      "\r",
      " 64%|██████▍   | 192/300 [01:26<00:41,  2.61it/s]"
     ]
    },
    {
     "name": "stdout",
     "output_type": "stream",
     "text": [
      "E191 \n",
      "loss=[  0.01,  0.01] \n",
      "mse=[  0.00,  0.00] \n",
      "\n"
     ]
    },
    {
     "name": "stderr",
     "output_type": "stream",
     "text": [
      "\r",
      " 64%|██████▍   | 193/300 [01:26<00:41,  2.59it/s]"
     ]
    },
    {
     "name": "stdout",
     "output_type": "stream",
     "text": [
      "E192 \n",
      "loss=[  0.01,  0.01] \n",
      "mse=[  0.00,  0.00] \n",
      "\n"
     ]
    },
    {
     "name": "stderr",
     "output_type": "stream",
     "text": [
      "\r",
      " 65%|██████▍   | 194/300 [01:27<00:41,  2.56it/s]"
     ]
    },
    {
     "name": "stdout",
     "output_type": "stream",
     "text": [
      "E193 \n",
      "loss=[  0.01,  0.01] \n",
      "mse=[  0.00,  0.00] \n",
      "\n"
     ]
    },
    {
     "name": "stderr",
     "output_type": "stream",
     "text": [
      "\r",
      " 65%|██████▌   | 195/300 [01:27<00:41,  2.52it/s]"
     ]
    },
    {
     "name": "stdout",
     "output_type": "stream",
     "text": [
      "E194 \n",
      "loss=[  0.01,  0.01] \n",
      "mse=[  0.00,  0.00] \n",
      "\n"
     ]
    },
    {
     "name": "stderr",
     "output_type": "stream",
     "text": [
      "\r",
      " 65%|██████▌   | 196/300 [01:27<00:41,  2.51it/s]"
     ]
    },
    {
     "name": "stdout",
     "output_type": "stream",
     "text": [
      "E195 \n",
      "loss=[  0.01,  0.01] \n",
      "mse=[  0.00,  0.00] \n",
      "\n"
     ]
    },
    {
     "name": "stderr",
     "output_type": "stream",
     "text": [
      "\r",
      " 66%|██████▌   | 197/300 [01:28<00:40,  2.52it/s]"
     ]
    },
    {
     "name": "stdout",
     "output_type": "stream",
     "text": [
      "E196 \n",
      "loss=[  0.01,  0.01] \n",
      "mse=[  0.00,  0.00] \n",
      "\n"
     ]
    },
    {
     "name": "stderr",
     "output_type": "stream",
     "text": [
      "\r",
      " 66%|██████▌   | 198/300 [01:28<00:40,  2.54it/s]"
     ]
    },
    {
     "name": "stdout",
     "output_type": "stream",
     "text": [
      "E197 \n",
      "loss=[  0.01,  0.01] \n",
      "mse=[  0.00,  0.00] \n",
      "\n"
     ]
    },
    {
     "name": "stderr",
     "output_type": "stream",
     "text": [
      "\r",
      " 66%|██████▋   | 199/300 [01:29<00:39,  2.55it/s]"
     ]
    },
    {
     "name": "stdout",
     "output_type": "stream",
     "text": [
      "E198 \n",
      "loss=[  0.01,  0.01] \n",
      "mse=[  0.00,  0.00] \n",
      "\n"
     ]
    },
    {
     "name": "stderr",
     "output_type": "stream",
     "text": [
      "\r",
      " 67%|██████▋   | 200/300 [01:29<00:38,  2.57it/s]"
     ]
    },
    {
     "name": "stdout",
     "output_type": "stream",
     "text": [
      "E199 \n",
      "loss=[  0.01,  0.01] \n",
      "mse=[  0.00,  0.00] \n",
      "\n"
     ]
    },
    {
     "name": "stderr",
     "output_type": "stream",
     "text": [
      "\r",
      " 67%|██████▋   | 201/300 [01:29<00:39,  2.53it/s]"
     ]
    },
    {
     "name": "stdout",
     "output_type": "stream",
     "text": [
      "E200 \n",
      "loss=[  0.00,  0.00] \n",
      "mse=[  0.00,  0.00] \n",
      "\n"
     ]
    },
    {
     "name": "stderr",
     "output_type": "stream",
     "text": [
      "\r",
      " 67%|██████▋   | 202/300 [01:30<00:38,  2.53it/s]"
     ]
    },
    {
     "name": "stdout",
     "output_type": "stream",
     "text": [
      "E201 \n",
      "loss=[  0.00,  0.00] \n",
      "mse=[  0.00,  0.00] \n",
      "\n"
     ]
    },
    {
     "name": "stderr",
     "output_type": "stream",
     "text": [
      "\r",
      " 68%|██████▊   | 203/300 [01:30<00:38,  2.55it/s]"
     ]
    },
    {
     "name": "stdout",
     "output_type": "stream",
     "text": [
      "E202 \n",
      "loss=[  0.01,  0.01] \n",
      "mse=[  0.00,  0.00] \n",
      "\n"
     ]
    },
    {
     "name": "stderr",
     "output_type": "stream",
     "text": [
      "\r",
      " 68%|██████▊   | 204/300 [01:31<00:37,  2.55it/s]"
     ]
    },
    {
     "name": "stdout",
     "output_type": "stream",
     "text": [
      "E203 \n",
      "loss=[  0.00,  0.00] \n",
      "mse=[  0.00,  0.00] \n",
      "\n"
     ]
    },
    {
     "name": "stderr",
     "output_type": "stream",
     "text": [
      "\r",
      " 68%|██████▊   | 205/300 [01:31<00:37,  2.54it/s]"
     ]
    },
    {
     "name": "stdout",
     "output_type": "stream",
     "text": [
      "E204 \n",
      "loss=[  0.00,  0.00] \n",
      "mse=[  0.00,  0.00] \n",
      "\n"
     ]
    },
    {
     "name": "stderr",
     "output_type": "stream",
     "text": [
      "\r",
      " 69%|██████▊   | 206/300 [01:31<00:37,  2.50it/s]"
     ]
    },
    {
     "name": "stdout",
     "output_type": "stream",
     "text": [
      "E205 \n",
      "loss=[  0.00,  0.00] \n",
      "mse=[  0.00,  0.00] \n",
      "\n"
     ]
    },
    {
     "name": "stderr",
     "output_type": "stream",
     "text": [
      "\r",
      " 69%|██████▉   | 207/300 [01:32<00:36,  2.51it/s]"
     ]
    },
    {
     "name": "stdout",
     "output_type": "stream",
     "text": [
      "E206 \n",
      "loss=[  0.00,  0.00] \n",
      "mse=[  0.00,  0.00] \n",
      "\n"
     ]
    },
    {
     "name": "stderr",
     "output_type": "stream",
     "text": [
      "\r",
      " 69%|██████▉   | 208/300 [01:32<00:36,  2.54it/s]"
     ]
    },
    {
     "name": "stdout",
     "output_type": "stream",
     "text": [
      "E207 \n",
      "loss=[  0.00,  0.00] \n",
      "mse=[  0.00,  0.00] \n",
      "\n"
     ]
    },
    {
     "name": "stderr",
     "output_type": "stream",
     "text": [
      "\r",
      " 70%|██████▉   | 209/300 [01:33<00:35,  2.56it/s]"
     ]
    },
    {
     "name": "stdout",
     "output_type": "stream",
     "text": [
      "E208 \n",
      "loss=[  0.00,  0.00] \n",
      "mse=[  0.00,  0.00] \n",
      "\n"
     ]
    },
    {
     "name": "stderr",
     "output_type": "stream",
     "text": [
      "\r",
      " 70%|███████   | 210/300 [01:33<00:34,  2.57it/s]"
     ]
    },
    {
     "name": "stdout",
     "output_type": "stream",
     "text": [
      "E209 \n",
      "loss=[  0.00,  0.00] \n",
      "mse=[  0.00,  0.00] \n",
      "\n"
     ]
    },
    {
     "name": "stderr",
     "output_type": "stream",
     "text": [
      "\r",
      " 70%|███████   | 211/300 [01:33<00:34,  2.58it/s]"
     ]
    },
    {
     "name": "stdout",
     "output_type": "stream",
     "text": [
      "E210 \n",
      "loss=[  0.00,  0.00] \n",
      "mse=[  0.00,  0.00] \n",
      "\n"
     ]
    },
    {
     "name": "stderr",
     "output_type": "stream",
     "text": [
      "\r",
      " 71%|███████   | 212/300 [01:34<00:33,  2.59it/s]"
     ]
    },
    {
     "name": "stdout",
     "output_type": "stream",
     "text": [
      "E211 \n",
      "loss=[  0.00,  0.00] \n",
      "mse=[  0.00,  0.00] \n",
      "\n"
     ]
    },
    {
     "name": "stderr",
     "output_type": "stream",
     "text": [
      "\r",
      " 71%|███████   | 213/300 [01:34<00:33,  2.59it/s]"
     ]
    },
    {
     "name": "stdout",
     "output_type": "stream",
     "text": [
      "E212 \n",
      "loss=[  0.00,  0.00] \n",
      "mse=[  0.00,  0.00] \n",
      "\n"
     ]
    },
    {
     "name": "stderr",
     "output_type": "stream",
     "text": [
      "\r",
      " 71%|███████▏  | 214/300 [01:35<00:33,  2.60it/s]"
     ]
    },
    {
     "name": "stdout",
     "output_type": "stream",
     "text": [
      "E213 \n",
      "loss=[  0.00,  0.00] \n",
      "mse=[  0.00,  0.00] \n",
      "\n"
     ]
    },
    {
     "name": "stderr",
     "output_type": "stream",
     "text": [
      "\r",
      " 72%|███████▏  | 215/300 [01:35<00:32,  2.60it/s]"
     ]
    },
    {
     "name": "stdout",
     "output_type": "stream",
     "text": [
      "E214 \n",
      "loss=[  0.00,  0.00] \n",
      "mse=[  0.00,  0.00] \n",
      "\n"
     ]
    },
    {
     "name": "stderr",
     "output_type": "stream",
     "text": [
      "\r",
      " 72%|███████▏  | 216/300 [01:35<00:32,  2.60it/s]"
     ]
    },
    {
     "name": "stdout",
     "output_type": "stream",
     "text": [
      "E215 \n",
      "loss=[  0.00,  0.00] \n",
      "mse=[  0.00,  0.00] \n",
      "\n"
     ]
    },
    {
     "name": "stderr",
     "output_type": "stream",
     "text": [
      "\r",
      " 72%|███████▏  | 217/300 [01:36<00:31,  2.60it/s]"
     ]
    },
    {
     "name": "stdout",
     "output_type": "stream",
     "text": [
      "E216 \n",
      "loss=[  0.00,  0.00] \n",
      "mse=[  0.00,  0.00] \n",
      "\n"
     ]
    },
    {
     "name": "stderr",
     "output_type": "stream",
     "text": [
      "\r",
      " 73%|███████▎  | 218/300 [01:36<00:31,  2.60it/s]"
     ]
    },
    {
     "name": "stdout",
     "output_type": "stream",
     "text": [
      "E217 \n",
      "loss=[  0.00,  0.00] \n",
      "mse=[  0.00,  0.00] \n",
      "\n"
     ]
    },
    {
     "name": "stderr",
     "output_type": "stream",
     "text": [
      "\r",
      " 73%|███████▎  | 219/300 [01:36<00:31,  2.60it/s]"
     ]
    },
    {
     "name": "stdout",
     "output_type": "stream",
     "text": [
      "E218 \n",
      "loss=[  0.00,  0.00] \n",
      "mse=[  0.00,  0.00] \n",
      "\n"
     ]
    },
    {
     "name": "stderr",
     "output_type": "stream",
     "text": [
      "\r",
      " 73%|███████▎  | 220/300 [01:37<00:30,  2.60it/s]"
     ]
    },
    {
     "name": "stdout",
     "output_type": "stream",
     "text": [
      "E219 \n",
      "loss=[  0.00,  0.00] \n",
      "mse=[  0.00,  0.00] \n",
      "\n"
     ]
    },
    {
     "name": "stderr",
     "output_type": "stream",
     "text": [
      "\r",
      " 74%|███████▎  | 221/300 [01:37<00:30,  2.60it/s]"
     ]
    },
    {
     "name": "stdout",
     "output_type": "stream",
     "text": [
      "E220 \n",
      "loss=[  0.00,  0.00] \n",
      "mse=[  0.00,  0.00] \n",
      "\n"
     ]
    },
    {
     "name": "stderr",
     "output_type": "stream",
     "text": [
      "\r",
      " 74%|███████▍  | 222/300 [01:38<00:29,  2.60it/s]"
     ]
    },
    {
     "name": "stdout",
     "output_type": "stream",
     "text": [
      "E221 \n",
      "loss=[  0.00,  0.00] \n",
      "mse=[  0.00,  0.00] \n",
      "\n"
     ]
    },
    {
     "name": "stderr",
     "output_type": "stream",
     "text": [
      "\r",
      " 74%|███████▍  | 223/300 [01:38<00:29,  2.60it/s]"
     ]
    },
    {
     "name": "stdout",
     "output_type": "stream",
     "text": [
      "E222 \n",
      "loss=[  0.00,  0.00] \n",
      "mse=[  0.00,  0.00] \n",
      "\n"
     ]
    },
    {
     "name": "stderr",
     "output_type": "stream",
     "text": [
      "\r",
      " 75%|███████▍  | 224/300 [01:38<00:29,  2.60it/s]"
     ]
    },
    {
     "name": "stdout",
     "output_type": "stream",
     "text": [
      "E223 \n",
      "loss=[  0.00,  0.00] \n",
      "mse=[  0.00,  0.00] \n",
      "\n"
     ]
    },
    {
     "name": "stderr",
     "output_type": "stream",
     "text": [
      "\r",
      " 75%|███████▌  | 225/300 [01:39<00:28,  2.60it/s]"
     ]
    },
    {
     "name": "stdout",
     "output_type": "stream",
     "text": [
      "E224 \n",
      "loss=[  0.00,  0.00] \n",
      "mse=[  0.00,  0.00] \n",
      "\n"
     ]
    },
    {
     "name": "stderr",
     "output_type": "stream",
     "text": [
      "\r",
      " 75%|███████▌  | 226/300 [01:39<00:28,  2.60it/s]"
     ]
    },
    {
     "name": "stdout",
     "output_type": "stream",
     "text": [
      "E225 \n",
      "loss=[  0.00,  0.00] \n",
      "mse=[  0.00,  0.00] \n",
      "\n"
     ]
    },
    {
     "name": "stderr",
     "output_type": "stream",
     "text": [
      "\r",
      " 76%|███████▌  | 227/300 [01:40<00:28,  2.60it/s]"
     ]
    },
    {
     "name": "stdout",
     "output_type": "stream",
     "text": [
      "E226 \n",
      "loss=[  0.00,  0.00] \n",
      "mse=[  0.00,  0.00] \n",
      "\n"
     ]
    },
    {
     "name": "stderr",
     "output_type": "stream",
     "text": [
      "\r",
      " 76%|███████▌  | 228/300 [01:40<00:27,  2.60it/s]"
     ]
    },
    {
     "name": "stdout",
     "output_type": "stream",
     "text": [
      "E227 \n",
      "loss=[  0.00,  0.00] \n",
      "mse=[  0.00,  0.00] \n",
      "\n"
     ]
    },
    {
     "name": "stderr",
     "output_type": "stream",
     "text": [
      "\r",
      " 76%|███████▋  | 229/300 [01:40<00:27,  2.60it/s]"
     ]
    },
    {
     "name": "stdout",
     "output_type": "stream",
     "text": [
      "E228 \n",
      "loss=[  0.00,  0.00] \n",
      "mse=[  0.00,  0.00] \n",
      "\n"
     ]
    },
    {
     "name": "stderr",
     "output_type": "stream",
     "text": [
      "\r",
      " 77%|███████▋  | 230/300 [01:41<00:26,  2.60it/s]"
     ]
    },
    {
     "name": "stdout",
     "output_type": "stream",
     "text": [
      "E229 \n",
      "loss=[  0.00,  0.00] \n",
      "mse=[  0.00,  0.00] \n",
      "\n"
     ]
    },
    {
     "name": "stderr",
     "output_type": "stream",
     "text": [
      "\r",
      " 77%|███████▋  | 231/300 [01:41<00:26,  2.60it/s]"
     ]
    },
    {
     "name": "stdout",
     "output_type": "stream",
     "text": [
      "E230 \n",
      "loss=[  0.00,  0.00] \n",
      "mse=[  0.00,  0.00] \n",
      "\n"
     ]
    },
    {
     "name": "stderr",
     "output_type": "stream",
     "text": [
      "\r",
      " 77%|███████▋  | 232/300 [01:41<00:26,  2.60it/s]"
     ]
    },
    {
     "name": "stdout",
     "output_type": "stream",
     "text": [
      "E231 \n",
      "loss=[  0.00,  0.00] \n",
      "mse=[  0.00,  0.00] \n",
      "\n"
     ]
    },
    {
     "name": "stderr",
     "output_type": "stream",
     "text": [
      "\r",
      " 78%|███████▊  | 233/300 [01:42<00:25,  2.60it/s]"
     ]
    },
    {
     "name": "stdout",
     "output_type": "stream",
     "text": [
      "E232 \n",
      "loss=[  0.01,  0.01] \n",
      "mse=[  0.00,  0.00] \n",
      "\n"
     ]
    },
    {
     "name": "stderr",
     "output_type": "stream",
     "text": [
      "\r",
      " 78%|███████▊  | 234/300 [01:42<00:25,  2.60it/s]"
     ]
    },
    {
     "name": "stdout",
     "output_type": "stream",
     "text": [
      "E233 \n",
      "loss=[  0.01,  0.00] \n",
      "mse=[  0.00,  0.00] \n",
      "\n"
     ]
    },
    {
     "name": "stderr",
     "output_type": "stream",
     "text": [
      "\r",
      " 78%|███████▊  | 235/300 [01:43<00:24,  2.60it/s]"
     ]
    },
    {
     "name": "stdout",
     "output_type": "stream",
     "text": [
      "E234 \n",
      "loss=[  0.01,  0.01] \n",
      "mse=[  0.00,  0.00] \n",
      "\n"
     ]
    },
    {
     "name": "stderr",
     "output_type": "stream",
     "text": [
      "\r",
      " 79%|███████▊  | 236/300 [01:43<00:24,  2.60it/s]"
     ]
    },
    {
     "name": "stdout",
     "output_type": "stream",
     "text": [
      "E235 \n",
      "loss=[  0.00,  0.00] \n",
      "mse=[  0.00,  0.00] \n",
      "\n"
     ]
    },
    {
     "name": "stderr",
     "output_type": "stream",
     "text": [
      "\r",
      " 79%|███████▉  | 237/300 [01:43<00:24,  2.60it/s]"
     ]
    },
    {
     "name": "stdout",
     "output_type": "stream",
     "text": [
      "E236 \n",
      "loss=[  0.00,  0.00] \n",
      "mse=[  0.00,  0.00] \n",
      "\n"
     ]
    },
    {
     "name": "stderr",
     "output_type": "stream",
     "text": [
      "\r",
      " 79%|███████▉  | 238/300 [01:44<00:23,  2.60it/s]"
     ]
    },
    {
     "name": "stdout",
     "output_type": "stream",
     "text": [
      "E237 \n",
      "loss=[  0.00,  0.00] \n",
      "mse=[  0.00,  0.00] \n",
      "\n"
     ]
    },
    {
     "name": "stderr",
     "output_type": "stream",
     "text": [
      "\r",
      " 80%|███████▉  | 239/300 [01:44<00:23,  2.60it/s]"
     ]
    },
    {
     "name": "stdout",
     "output_type": "stream",
     "text": [
      "E238 \n",
      "loss=[  0.00,  0.00] \n",
      "mse=[  0.00,  0.00] \n",
      "\n"
     ]
    },
    {
     "name": "stderr",
     "output_type": "stream",
     "text": [
      "\r",
      " 80%|████████  | 240/300 [01:45<00:23,  2.61it/s]"
     ]
    },
    {
     "name": "stdout",
     "output_type": "stream",
     "text": [
      "E239 \n",
      "loss=[  0.00,  0.00] \n",
      "mse=[  0.00,  0.00] \n",
      "\n"
     ]
    },
    {
     "name": "stderr",
     "output_type": "stream",
     "text": [
      "\r",
      " 80%|████████  | 241/300 [01:45<00:22,  2.61it/s]"
     ]
    },
    {
     "name": "stdout",
     "output_type": "stream",
     "text": [
      "E240 \n",
      "loss=[  0.00,  0.00] \n",
      "mse=[  0.00,  0.00] \n",
      "\n"
     ]
    },
    {
     "name": "stderr",
     "output_type": "stream",
     "text": [
      "\r",
      " 81%|████████  | 242/300 [01:45<00:22,  2.61it/s]"
     ]
    },
    {
     "name": "stdout",
     "output_type": "stream",
     "text": [
      "E241 \n",
      "loss=[  0.01,  0.01] \n",
      "mse=[  0.00,  0.00] \n",
      "\n"
     ]
    },
    {
     "name": "stderr",
     "output_type": "stream",
     "text": [
      "\r",
      " 81%|████████  | 243/300 [01:46<00:21,  2.61it/s]"
     ]
    },
    {
     "name": "stdout",
     "output_type": "stream",
     "text": [
      "E242 \n",
      "loss=[  0.01,  0.01] \n",
      "mse=[  0.00,  0.00] \n",
      "\n"
     ]
    },
    {
     "name": "stderr",
     "output_type": "stream",
     "text": [
      "\r",
      " 81%|████████▏ | 244/300 [01:46<00:21,  2.61it/s]"
     ]
    },
    {
     "name": "stdout",
     "output_type": "stream",
     "text": [
      "E243 \n",
      "loss=[  0.00,  0.00] \n",
      "mse=[  0.00,  0.00] \n",
      "\n"
     ]
    },
    {
     "name": "stderr",
     "output_type": "stream",
     "text": [
      "\r",
      " 82%|████████▏ | 245/300 [01:46<00:21,  2.61it/s]"
     ]
    },
    {
     "name": "stdout",
     "output_type": "stream",
     "text": [
      "E244 \n",
      "loss=[  0.00,  0.00] \n",
      "mse=[  0.00,  0.00] \n",
      "\n"
     ]
    },
    {
     "name": "stderr",
     "output_type": "stream",
     "text": [
      "\r",
      " 82%|████████▏ | 246/300 [01:47<00:20,  2.60it/s]"
     ]
    },
    {
     "name": "stdout",
     "output_type": "stream",
     "text": [
      "E245 \n",
      "loss=[  0.00,  0.00] \n",
      "mse=[  0.00,  0.00] \n",
      "\n"
     ]
    },
    {
     "name": "stderr",
     "output_type": "stream",
     "text": [
      "\r",
      " 82%|████████▏ | 247/300 [01:47<00:20,  2.60it/s]"
     ]
    },
    {
     "name": "stdout",
     "output_type": "stream",
     "text": [
      "E246 \n",
      "loss=[  0.01,  0.01] \n",
      "mse=[  0.00,  0.00] \n",
      "\n"
     ]
    },
    {
     "name": "stderr",
     "output_type": "stream",
     "text": [
      "\r",
      " 83%|████████▎ | 248/300 [01:48<00:19,  2.60it/s]"
     ]
    },
    {
     "name": "stdout",
     "output_type": "stream",
     "text": [
      "E247 \n",
      "loss=[  0.01,  0.01] \n",
      "mse=[  0.00,  0.00] \n",
      "\n"
     ]
    },
    {
     "name": "stderr",
     "output_type": "stream",
     "text": [
      "\r",
      " 83%|████████▎ | 249/300 [01:48<00:19,  2.61it/s]"
     ]
    },
    {
     "name": "stdout",
     "output_type": "stream",
     "text": [
      "E248 \n",
      "loss=[  0.00,  0.01] \n",
      "mse=[  0.00,  0.00] \n",
      "\n"
     ]
    },
    {
     "name": "stderr",
     "output_type": "stream",
     "text": [
      "\r",
      " 83%|████████▎ | 250/300 [01:48<00:19,  2.61it/s]"
     ]
    },
    {
     "name": "stdout",
     "output_type": "stream",
     "text": [
      "E249 \n",
      "loss=[  0.01,  0.01] \n",
      "mse=[  0.00,  0.00] \n",
      "\n"
     ]
    },
    {
     "name": "stderr",
     "output_type": "stream",
     "text": [
      "\r",
      " 84%|████████▎ | 251/300 [01:49<00:18,  2.61it/s]"
     ]
    },
    {
     "name": "stdout",
     "output_type": "stream",
     "text": [
      "E250 \n",
      "loss=[  0.00,  0.00] \n",
      "mse=[  0.00,  0.00] \n",
      "\n"
     ]
    },
    {
     "name": "stderr",
     "output_type": "stream",
     "text": [
      "\r",
      " 84%|████████▍ | 252/300 [01:49<00:18,  2.61it/s]"
     ]
    },
    {
     "name": "stdout",
     "output_type": "stream",
     "text": [
      "E251 \n",
      "loss=[  0.01,  0.01] \n",
      "mse=[  0.00,  0.00] \n",
      "\n"
     ]
    },
    {
     "name": "stderr",
     "output_type": "stream",
     "text": [
      "\r",
      " 84%|████████▍ | 253/300 [01:49<00:18,  2.61it/s]"
     ]
    },
    {
     "name": "stdout",
     "output_type": "stream",
     "text": [
      "E252 \n",
      "loss=[  0.00,  0.00] \n",
      "mse=[  0.00,  0.00] \n",
      "\n"
     ]
    },
    {
     "name": "stderr",
     "output_type": "stream",
     "text": [
      "\r",
      " 85%|████████▍ | 254/300 [01:50<00:17,  2.60it/s]"
     ]
    },
    {
     "name": "stdout",
     "output_type": "stream",
     "text": [
      "E253 \n",
      "loss=[  0.01,  0.01] \n",
      "mse=[  0.00,  0.00] \n",
      "\n"
     ]
    },
    {
     "name": "stderr",
     "output_type": "stream",
     "text": [
      "\r",
      " 85%|████████▌ | 255/300 [01:50<00:17,  2.60it/s]"
     ]
    },
    {
     "name": "stdout",
     "output_type": "stream",
     "text": [
      "E254 \n",
      "loss=[  0.01,  0.01] \n",
      "mse=[  0.00,  0.00] \n",
      "\n"
     ]
    },
    {
     "name": "stderr",
     "output_type": "stream",
     "text": [
      "\r",
      " 85%|████████▌ | 256/300 [01:51<00:16,  2.60it/s]"
     ]
    },
    {
     "name": "stdout",
     "output_type": "stream",
     "text": [
      "E255 \n",
      "loss=[  0.01,  0.01] \n",
      "mse=[  0.00,  0.00] \n",
      "\n"
     ]
    },
    {
     "name": "stderr",
     "output_type": "stream",
     "text": [
      "\r",
      " 86%|████████▌ | 257/300 [01:51<00:16,  2.60it/s]"
     ]
    },
    {
     "name": "stdout",
     "output_type": "stream",
     "text": [
      "E256 \n",
      "loss=[  0.01,  0.01] \n",
      "mse=[  0.00,  0.00] \n",
      "\n"
     ]
    },
    {
     "name": "stderr",
     "output_type": "stream",
     "text": [
      "\r",
      " 86%|████████▌ | 258/300 [01:51<00:16,  2.60it/s]"
     ]
    },
    {
     "name": "stdout",
     "output_type": "stream",
     "text": [
      "E257 \n",
      "loss=[  0.01,  0.01] \n",
      "mse=[  0.00,  0.00] \n",
      "\n"
     ]
    },
    {
     "name": "stderr",
     "output_type": "stream",
     "text": [
      "\r",
      " 86%|████████▋ | 259/300 [01:52<00:15,  2.60it/s]"
     ]
    },
    {
     "name": "stdout",
     "output_type": "stream",
     "text": [
      "E258 \n",
      "loss=[  0.00,  0.00] \n",
      "mse=[  0.00,  0.00] \n",
      "\n"
     ]
    },
    {
     "name": "stderr",
     "output_type": "stream",
     "text": [
      "\r",
      " 87%|████████▋ | 260/300 [01:52<00:15,  2.60it/s]"
     ]
    },
    {
     "name": "stdout",
     "output_type": "stream",
     "text": [
      "E259 \n",
      "loss=[  0.00,  0.00] \n",
      "mse=[  0.00,  0.00] \n",
      "\n"
     ]
    },
    {
     "name": "stderr",
     "output_type": "stream",
     "text": [
      "\r",
      " 87%|████████▋ | 261/300 [01:53<00:14,  2.60it/s]"
     ]
    },
    {
     "name": "stdout",
     "output_type": "stream",
     "text": [
      "E260 \n",
      "loss=[  0.00,  0.00] \n",
      "mse=[  0.00,  0.00] \n",
      "\n"
     ]
    },
    {
     "name": "stderr",
     "output_type": "stream",
     "text": [
      "\r",
      " 87%|████████▋ | 262/300 [01:53<00:14,  2.60it/s]"
     ]
    },
    {
     "name": "stdout",
     "output_type": "stream",
     "text": [
      "E261 \n",
      "loss=[  0.00,  0.00] \n",
      "mse=[  0.00,  0.00] \n",
      "\n"
     ]
    },
    {
     "name": "stderr",
     "output_type": "stream",
     "text": [
      "\r",
      " 88%|████████▊ | 263/300 [01:53<00:14,  2.60it/s]"
     ]
    },
    {
     "name": "stdout",
     "output_type": "stream",
     "text": [
      "E262 \n",
      "loss=[  0.00,  0.00] \n",
      "mse=[  0.00,  0.00] \n",
      "\n"
     ]
    },
    {
     "name": "stderr",
     "output_type": "stream",
     "text": [
      "\r",
      " 88%|████████▊ | 264/300 [01:54<00:13,  2.60it/s]"
     ]
    },
    {
     "name": "stdout",
     "output_type": "stream",
     "text": [
      "E263 \n",
      "loss=[  0.00,  0.00] \n",
      "mse=[  0.00,  0.00] \n",
      "\n"
     ]
    },
    {
     "name": "stderr",
     "output_type": "stream",
     "text": [
      "\r",
      " 88%|████████▊ | 265/300 [01:54<00:13,  2.61it/s]"
     ]
    },
    {
     "name": "stdout",
     "output_type": "stream",
     "text": [
      "E264 \n",
      "loss=[  0.00,  0.00] \n",
      "mse=[  0.00,  0.00] \n",
      "\n"
     ]
    },
    {
     "name": "stderr",
     "output_type": "stream",
     "text": [
      "\r",
      " 89%|████████▊ | 266/300 [01:54<00:13,  2.59it/s]"
     ]
    },
    {
     "name": "stdout",
     "output_type": "stream",
     "text": [
      "E265 \n",
      "loss=[  0.00,  0.00] \n",
      "mse=[  0.00,  0.00] \n",
      "\n"
     ]
    },
    {
     "name": "stderr",
     "output_type": "stream",
     "text": [
      "\r",
      " 89%|████████▉ | 267/300 [01:55<00:12,  2.59it/s]"
     ]
    },
    {
     "name": "stdout",
     "output_type": "stream",
     "text": [
      "E266 \n",
      "loss=[  0.00,  0.00] \n",
      "mse=[  0.00,  0.00] \n",
      "\n"
     ]
    },
    {
     "name": "stderr",
     "output_type": "stream",
     "text": [
      "\r",
      " 89%|████████▉ | 268/300 [01:55<00:12,  2.60it/s]"
     ]
    },
    {
     "name": "stdout",
     "output_type": "stream",
     "text": [
      "E267 \n",
      "loss=[  0.00,  0.00] \n",
      "mse=[  0.00,  0.00] \n",
      "\n"
     ]
    },
    {
     "name": "stderr",
     "output_type": "stream",
     "text": [
      "\r",
      " 90%|████████▉ | 269/300 [01:56<00:11,  2.60it/s]"
     ]
    },
    {
     "name": "stdout",
     "output_type": "stream",
     "text": [
      "E268 \n",
      "loss=[  0.00,  0.00] \n",
      "mse=[  0.00,  0.00] \n",
      "\n"
     ]
    },
    {
     "name": "stderr",
     "output_type": "stream",
     "text": [
      "\r",
      " 90%|█████████ | 270/300 [01:56<00:11,  2.60it/s]"
     ]
    },
    {
     "name": "stdout",
     "output_type": "stream",
     "text": [
      "E269 \n",
      "loss=[  0.00,  0.00] \n",
      "mse=[  0.00,  0.00] \n",
      "\n"
     ]
    },
    {
     "name": "stderr",
     "output_type": "stream",
     "text": [
      "\r",
      " 90%|█████████ | 271/300 [01:56<00:11,  2.58it/s]"
     ]
    },
    {
     "name": "stdout",
     "output_type": "stream",
     "text": [
      "E270 \n",
      "loss=[  0.00,  0.00] \n",
      "mse=[  0.00,  0.00] \n",
      "\n"
     ]
    },
    {
     "name": "stderr",
     "output_type": "stream",
     "text": [
      "\r",
      " 91%|█████████ | 272/300 [01:57<00:10,  2.59it/s]"
     ]
    },
    {
     "name": "stdout",
     "output_type": "stream",
     "text": [
      "E271 \n",
      "loss=[  0.01,  0.01] \n",
      "mse=[  0.00,  0.00] \n",
      "\n"
     ]
    },
    {
     "name": "stderr",
     "output_type": "stream",
     "text": [
      "\r",
      " 91%|█████████ | 273/300 [01:57<00:10,  2.59it/s]"
     ]
    },
    {
     "name": "stdout",
     "output_type": "stream",
     "text": [
      "E272 \n",
      "loss=[  0.00,  0.00] \n",
      "mse=[  0.00,  0.00] \n",
      "\n"
     ]
    },
    {
     "name": "stderr",
     "output_type": "stream",
     "text": [
      "\r",
      " 91%|█████████▏| 274/300 [01:58<00:10,  2.60it/s]"
     ]
    },
    {
     "name": "stdout",
     "output_type": "stream",
     "text": [
      "E273 \n",
      "loss=[  0.01,  0.01] \n",
      "mse=[  0.00,  0.00] \n",
      "\n"
     ]
    },
    {
     "name": "stderr",
     "output_type": "stream",
     "text": [
      "\r",
      " 92%|█████████▏| 275/300 [01:58<00:09,  2.60it/s]"
     ]
    },
    {
     "name": "stdout",
     "output_type": "stream",
     "text": [
      "E274 \n",
      "loss=[  0.01,  0.01] \n",
      "mse=[  0.00,  0.00] \n",
      "\n"
     ]
    },
    {
     "name": "stderr",
     "output_type": "stream",
     "text": [
      "\r",
      " 92%|█████████▏| 276/300 [01:58<00:09,  2.60it/s]"
     ]
    },
    {
     "name": "stdout",
     "output_type": "stream",
     "text": [
      "E275 \n",
      "loss=[  0.00,  0.00] \n",
      "mse=[  0.00,  0.00] \n",
      "\n"
     ]
    },
    {
     "name": "stderr",
     "output_type": "stream",
     "text": [
      "\r",
      " 92%|█████████▏| 277/300 [01:59<00:08,  2.60it/s]"
     ]
    },
    {
     "name": "stdout",
     "output_type": "stream",
     "text": [
      "E276 \n",
      "loss=[  0.01,  0.01] \n",
      "mse=[  0.00,  0.00] \n",
      "\n"
     ]
    },
    {
     "name": "stderr",
     "output_type": "stream",
     "text": [
      "\r",
      " 93%|█████████▎| 278/300 [01:59<00:08,  2.60it/s]"
     ]
    },
    {
     "name": "stdout",
     "output_type": "stream",
     "text": [
      "E277 \n",
      "loss=[  0.00,  0.00] \n",
      "mse=[  0.00,  0.00] \n",
      "\n"
     ]
    },
    {
     "name": "stderr",
     "output_type": "stream",
     "text": [
      "\r",
      " 93%|█████████▎| 279/300 [01:59<00:08,  2.60it/s]"
     ]
    },
    {
     "name": "stdout",
     "output_type": "stream",
     "text": [
      "E278 \n",
      "loss=[  0.00,  0.00] \n",
      "mse=[  0.00,  0.00] \n",
      "\n"
     ]
    },
    {
     "name": "stderr",
     "output_type": "stream",
     "text": [
      "\r",
      " 93%|█████████▎| 280/300 [02:00<00:07,  2.61it/s]"
     ]
    },
    {
     "name": "stdout",
     "output_type": "stream",
     "text": [
      "E279 \n",
      "loss=[  0.00,  0.00] \n",
      "mse=[  0.00,  0.00] \n",
      "\n"
     ]
    },
    {
     "name": "stderr",
     "output_type": "stream",
     "text": [
      "\r",
      " 94%|█████████▎| 281/300 [02:00<00:07,  2.61it/s]"
     ]
    },
    {
     "name": "stdout",
     "output_type": "stream",
     "text": [
      "E280 \n",
      "loss=[  0.00,  0.01] \n",
      "mse=[  0.00,  0.00] \n",
      "\n"
     ]
    },
    {
     "name": "stderr",
     "output_type": "stream",
     "text": [
      "\r",
      " 94%|█████████▍| 282/300 [02:01<00:06,  2.61it/s]"
     ]
    },
    {
     "name": "stdout",
     "output_type": "stream",
     "text": [
      "E281 \n",
      "loss=[  0.00,  0.00] \n",
      "mse=[  0.00,  0.00] \n",
      "\n"
     ]
    },
    {
     "name": "stderr",
     "output_type": "stream",
     "text": [
      "\r",
      " 94%|█████████▍| 283/300 [02:01<00:06,  2.60it/s]"
     ]
    },
    {
     "name": "stdout",
     "output_type": "stream",
     "text": [
      "E282 \n",
      "loss=[  0.00,  0.00] \n",
      "mse=[  0.00,  0.00] \n",
      "\n"
     ]
    },
    {
     "name": "stderr",
     "output_type": "stream",
     "text": [
      "\r",
      " 95%|█████████▍| 284/300 [02:01<00:06,  2.61it/s]"
     ]
    },
    {
     "name": "stdout",
     "output_type": "stream",
     "text": [
      "E283 \n",
      "loss=[  0.00,  0.00] \n",
      "mse=[  0.00,  0.00] \n",
      "\n"
     ]
    },
    {
     "name": "stderr",
     "output_type": "stream",
     "text": [
      "\r",
      " 95%|█████████▌| 285/300 [02:02<00:05,  2.61it/s]"
     ]
    },
    {
     "name": "stdout",
     "output_type": "stream",
     "text": [
      "E284 \n",
      "loss=[  0.00,  0.00] \n",
      "mse=[  0.00,  0.00] \n",
      "\n"
     ]
    },
    {
     "name": "stderr",
     "output_type": "stream",
     "text": [
      "\r",
      " 95%|█████████▌| 286/300 [02:02<00:05,  2.61it/s]"
     ]
    },
    {
     "name": "stdout",
     "output_type": "stream",
     "text": [
      "E285 \n",
      "loss=[  0.00,  0.00] \n",
      "mse=[  0.00,  0.00] \n",
      "\n"
     ]
    },
    {
     "name": "stderr",
     "output_type": "stream",
     "text": [
      "\r",
      " 96%|█████████▌| 287/300 [02:03<00:04,  2.61it/s]"
     ]
    },
    {
     "name": "stdout",
     "output_type": "stream",
     "text": [
      "E286 \n",
      "loss=[  0.01,  0.00] \n",
      "mse=[  0.00,  0.00] \n",
      "\n"
     ]
    },
    {
     "name": "stderr",
     "output_type": "stream",
     "text": [
      "\r",
      " 96%|█████████▌| 288/300 [02:03<00:04,  2.61it/s]"
     ]
    },
    {
     "name": "stdout",
     "output_type": "stream",
     "text": [
      "E287 \n",
      "loss=[  0.01,  0.01] \n",
      "mse=[  0.00,  0.00] \n",
      "\n"
     ]
    },
    {
     "name": "stderr",
     "output_type": "stream",
     "text": [
      "\r",
      " 96%|█████████▋| 289/300 [02:03<00:04,  2.61it/s]"
     ]
    },
    {
     "name": "stdout",
     "output_type": "stream",
     "text": [
      "E288 \n",
      "loss=[  0.01,  0.01] \n",
      "mse=[  0.00,  0.00] \n",
      "\n"
     ]
    },
    {
     "name": "stderr",
     "output_type": "stream",
     "text": [
      "\r",
      " 97%|█████████▋| 290/300 [02:04<00:03,  2.61it/s]"
     ]
    },
    {
     "name": "stdout",
     "output_type": "stream",
     "text": [
      "E289 \n",
      "loss=[  0.00,  0.00] \n",
      "mse=[  0.00,  0.00] \n",
      "\n"
     ]
    },
    {
     "name": "stderr",
     "output_type": "stream",
     "text": [
      "\r",
      " 97%|█████████▋| 291/300 [02:04<00:03,  2.61it/s]"
     ]
    },
    {
     "name": "stdout",
     "output_type": "stream",
     "text": [
      "E290 \n",
      "loss=[  0.01,  0.01] \n",
      "mse=[  0.00,  0.00] \n",
      "\n"
     ]
    },
    {
     "name": "stderr",
     "output_type": "stream",
     "text": [
      "\r",
      " 97%|█████████▋| 292/300 [02:04<00:03,  2.61it/s]"
     ]
    },
    {
     "name": "stdout",
     "output_type": "stream",
     "text": [
      "E291 \n",
      "loss=[  0.00,  0.00] \n",
      "mse=[  0.00,  0.00] \n",
      "\n"
     ]
    },
    {
     "name": "stderr",
     "output_type": "stream",
     "text": [
      "\r",
      " 98%|█████████▊| 293/300 [02:05<00:02,  2.61it/s]"
     ]
    },
    {
     "name": "stdout",
     "output_type": "stream",
     "text": [
      "E292 \n",
      "loss=[  0.01,  0.01] \n",
      "mse=[  0.00,  0.00] \n",
      "\n"
     ]
    },
    {
     "name": "stderr",
     "output_type": "stream",
     "text": [
      "\r",
      " 98%|█████████▊| 294/300 [02:05<00:02,  2.61it/s]"
     ]
    },
    {
     "name": "stdout",
     "output_type": "stream",
     "text": [
      "E293 \n",
      "loss=[  0.00,  0.00] \n",
      "mse=[  0.00,  0.00] \n",
      "\n"
     ]
    },
    {
     "name": "stderr",
     "output_type": "stream",
     "text": [
      "\r",
      " 98%|█████████▊| 295/300 [02:06<00:01,  2.61it/s]"
     ]
    },
    {
     "name": "stdout",
     "output_type": "stream",
     "text": [
      "E294 \n",
      "loss=[  0.00,  0.00] \n",
      "mse=[  0.00,  0.00] \n",
      "\n"
     ]
    },
    {
     "name": "stderr",
     "output_type": "stream",
     "text": [
      "\r",
      " 99%|█████████▊| 296/300 [02:06<00:01,  2.61it/s]"
     ]
    },
    {
     "name": "stdout",
     "output_type": "stream",
     "text": [
      "E295 \n",
      "loss=[  0.00,  0.00] \n",
      "mse=[  0.00,  0.00] \n",
      "\n"
     ]
    },
    {
     "name": "stderr",
     "output_type": "stream",
     "text": [
      "\r",
      " 99%|█████████▉| 297/300 [02:06<00:01,  2.61it/s]"
     ]
    },
    {
     "name": "stdout",
     "output_type": "stream",
     "text": [
      "E296 \n",
      "loss=[  0.00,  0.00] \n",
      "mse=[  0.00,  0.00] \n",
      "\n"
     ]
    },
    {
     "name": "stderr",
     "output_type": "stream",
     "text": [
      "\r",
      " 99%|█████████▉| 298/300 [02:07<00:00,  2.60it/s]"
     ]
    },
    {
     "name": "stdout",
     "output_type": "stream",
     "text": [
      "E297 \n",
      "loss=[  0.00,  0.00] \n",
      "mse=[  0.00,  0.00] \n",
      "\n"
     ]
    },
    {
     "name": "stderr",
     "output_type": "stream",
     "text": [
      "\r",
      "100%|█████████▉| 299/300 [02:07<00:00,  2.60it/s]"
     ]
    },
    {
     "name": "stdout",
     "output_type": "stream",
     "text": [
      "E298 \n",
      "loss=[  0.00,  0.00] \n",
      "mse=[  0.00,  0.00] \n",
      "\n"
     ]
    },
    {
     "name": "stderr",
     "output_type": "stream",
     "text": [
      "100%|██████████| 300/300 [02:08<00:00,  2.34it/s]"
     ]
    },
    {
     "name": "stdout",
     "output_type": "stream",
     "text": [
      "E299 \n",
      "loss=[  0.00,  0.00] \n",
      "mse=[  0.00,  0.00] \n",
      "\n",
      "CPU times: user 1min 54s, sys: 791 ms, total: 1min 55s\n",
      "Wall time: 2min 8s\n"
     ]
    },
    {
     "name": "stderr",
     "output_type": "stream",
     "text": [
      "\n"
     ]
    }
   ],
   "source": [
    "%%time\n",
    "# instanciamos un modelo\n",
    "model = FNO1d(modes, width)\n",
    "# entrenamos\n",
    "#loss_hist, acc_hist = train(model, trn_dl, tst_dl)\n",
    "epochs = 300\n",
    "loss_hist, mse_hist = train_GPU(model.to(device), train_loader, eval_loader, epochs=epochs)"
   ]
  },
  {
   "cell_type": "code",
   "execution_count": 17,
   "id": "43736fba",
   "metadata": {},
   "outputs": [
    {
     "name": "stderr",
     "output_type": "stream",
     "text": [
      "<ipython-input-16-bb94ae2b853c>:21: UserWarning: FixedFormatter should only be used together with FixedLocator\n",
      "  ax[i].set_yticklabels(yt, color = c, fontsize = 15)\n",
      "<ipython-input-16-bb94ae2b853c>:23: UserWarning: FixedFormatter should only be used together with FixedLocator\n",
      "  ax[i].set_xticklabels([int(x) for x in xt], color = c, fontsize = 15)\n"
     ]
    },
    {
     "data": {
      "image/png": "[encoded data removed]",
      "text/plain": [
       "<Figure size 936x360 with 2 Axes>"
      ]
     },
     "metadata": {
      "needs_background": "dark"
     },
     "output_type": "display_data"
    }
   ],
   "source": [
    "plot_metrics(loss_hist, mse_hist, epoch = epochs, name = f\"metric_{epochs}epochs_burger\")"
   ]
  },
  {
   "cell_type": "code",
   "execution_count": 18,
   "id": "e56d5bd2",
   "metadata": {},
   "outputs": [
    {
     "name": "stderr",
     "output_type": "stream",
     "text": [
      "<ipython-input-16-bb94ae2b853c>:21: UserWarning: FixedFormatter should only be used together with FixedLocator\n",
      "  ax[i].set_yticklabels(yt, color = c, fontsize = 15)\n",
      "<ipython-input-16-bb94ae2b853c>:23: UserWarning: FixedFormatter should only be used together with FixedLocator\n",
      "  ax[i].set_xticklabels([int(x) for x in xt], color = c, fontsize = 15)\n"
     ]
    },
    {
     "data": {
      "image/png": "[encoded data removed]",
      "text/plain": [
       "<Figure size 936x360 with 2 Axes>"
      ]
     },
     "metadata": {
      "needs_background": "light"
     },
     "output_type": "display_data"
    }
   ],
   "source": [
    "plot_metrics(loss_hist, mse_hist, epoch = epochs, name = f\"metric_{epochs}epochs_burger_black\", c=\"black\")"
   ]
  },
  {
   "cell_type": "markdown",
   "id": "0bab9c00",
   "metadata": {},
   "source": [
    "## Evaluamos en entrenamiento"
   ]
  },
  {
   "cell_type": "code",
   "execution_count": 19,
   "id": "475360df",
   "metadata": {},
   "outputs": [],
   "source": [
    "with torch.no_grad(): \n",
    "    preds = []\n",
    "    y_trues = []\n",
    "    for x, y_true in test_loader:\n",
    "        out = model(x.to(device))\n",
    "        y_trues.append(y_true)\n",
    "        preds.append(out.squeeze().cpu())"
   ]
  },
  {
   "cell_type": "code",
   "execution_count": 20,
   "id": "fdec54b2",
   "metadata": {},
   "outputs": [
    {
     "name": "stderr",
     "output_type": "stream",
     "text": [
      "<ipython-input-20-f50f32ec1ea9>:2: RuntimeWarning: More than 20 figures have been opened. Figures created through the pyplot interface (`matplotlib.pyplot.figure`) are retained until explicitly closed and may consume too much memory. (To control this warning, see the rcParam `figure.max_open_warning`).\n",
      "  fig, ax = plt.subplots(figsize = (10,2))\n"
     ]
    },
    {
     "data": {
      "image/png": "[encoded data removed]",
      "text/plain": [
       "<Figure size 720x144 with 1 Axes>"
      ]
     },
     "metadata": {},
     "output_type": "display_data"
    },
    {
     "data": {
      "image/png": "[encoded data removed]",
      "text/plain": [
       "<Figure size 720x144 with 1 Axes>"
      ]
     },
     "metadata": {},
     "output_type": "display_data"
    },
    {
     "data": {
      "image/png": "[encoded data removed]",
      "text/plain": [
       "<Figure size 720x144 with 1 Axes>"
      ]
     },
     "metadata": {},
     "output_type": "display_data"
    },
    {
     "data": {
      "image/png": "[encoded data removed]",
      "text/plain": [
       "<Figure size 720x144 with 1 Axes>"
      ]
     },
     "metadata": {},
     "output_type": "display_data"
    },
    {
     "data": {
      "image/png": "[encoded data removed]",
      "text/plain": [
       "<Figure size 720x144 with 1 Axes>"
      ]
     },
     "metadata": {},
     "output_type": "display_data"
    },
    {
     "data": {
      "image/png": "[encoded data removed]",
      "text/plain": [
       "<Figure size 720x144 with 1 Axes>"
      ]
     },
     "metadata": {},
     "output_type": "display_data"
    },
    {
     "data": {
      "image/png": "[encoded data removed]",
      "text/plain": [
       "<Figure size 720x144 with 1 Axes>"
      ]
     },
     "metadata": {},
     "output_type": "display_data"
    },
    {
     "data": {
      "image/png": "[encoded data removed]",
      "text/plain": [
       "<Figure size 720x144 with 1 Axes>"
      ]
     },
     "metadata": {},
     "output_type": "display_data"
    },
    {
     "data": {
      "image/png": "[encoded data removed]",
      "text/plain": [
       "<Figure size 720x144 with 1 Axes>"
      ]
     },
     "metadata": {},
     "output_type": "display_data"
    },
    {
     "data": {
      "image/png": "[encoded data removed]",
      "text/plain": [
       "<Figure size 720x144 with 1 Axes>"
      ]
     },
     "metadata": {},
     "output_type": "display_data"
    },
    {
     "data": {
      "image/png": "[encoded data removed]",
      "text/plain": [
       "<Figure size 720x144 with 1 Axes>"
      ]
     },
     "metadata": {},
     "output_type": "display_data"
    },
    {
     "data": {
      "image/png": "[encoded data removed]",
      "text/plain": [
       "<Figure size 720x144 with 1 Axes>"
      ]
     },
     "metadata": {},
     "output_type": "display_data"
    },
    {
     "data": {
      "image/png": "[encoded data removed]",
      "text/plain": [
       "<Figure size 720x144 with 1 Axes>"
      ]
     },
     "metadata": {},
     "output_type": "display_data"
    },
    {
     "data": {
      "image/png": "[encoded data removed]",
      "text/plain": [
       "<Figure size 720x144 with 1 Axes>"
      ]
     },
     "metadata": {},
     "output_type": "display_data"
    },
    {
     "data": {
      "image/png": "[encoded data removed]",
      "text/plain": [
       "<Figure size 720x144 with 1 Axes>"
      ]
     },
     "metadata": {},
     "output_type": "display_data"
    },
    {
     "data": {
      "image/png": "[encoded data removed]",
      "text/plain": [
       "<Figure size 720x144 with 1 Axes>"
      ]
     },
     "metadata": {},
     "output_type": "display_data"
    },
    {
     "data": {
      "image/png": "[encoded data removed]",
      "text/plain": [
       "<Figure size 720x144 with 1 Axes>"
      ]
     },
     "metadata": {},
     "output_type": "display_data"
    },
    {
     "data": {
      "image/png": "[encoded data removed]",
      "text/plain": [
       "<Figure size 720x144 with 1 Axes>"
      ]
     },
     "metadata": {},
     "output_type": "display_data"
    },
    {
     "data": {
      "image/png": "[encoded data removed]",
      "text/plain": [
       "<Figure size 720x144 with 1 Axes>"
      ]
     },
     "metadata": {},
     "output_type": "display_data"
    },
    {
     "data": {
      "image/png": "[encoded data removed]",
      "text/plain": [
       "<Figure size 720x144 with 1 Axes>"
      ]
     },
     "metadata": {},
     "output_type": "display_data"
    },
    {
     "data": {
      "image/png": "[encoded data removed]",
      "text/plain": [
       "<Figure size 720x144 with 1 Axes>"
      ]
     },
     "metadata": {},
     "output_type": "display_data"
    },
    {
     "data": {
      "image/png": "[encoded data removed]",
      "text/plain": [
       "<Figure size 720x144 with 1 Axes>"
      ]
     },
     "metadata": {},
     "output_type": "display_data"
    },
    {
     "data": {
      "image/png": "[encoded data removed]",
      "text/plain": [
       "<Figure size 720x144 with 1 Axes>"
      ]
     },
     "metadata": {},
     "output_type": "display_data"
    },
    {
     "data": {
      "image/png": "[encoded data removed]",
      "text/plain": [
       "<Figure size 720x144 with 1 Axes>"
      ]
     },
     "metadata": {},
     "output_type": "display_data"
    },
    {
     "data": {
      "image/png": "[encoded data removed]",
      "text/plain": [
       "<Figure size 720x144 with 1 Axes>"
      ]
     },
     "metadata": {},
     "output_type": "display_data"
    },
    {
     "data": {
      "image/png": "[encoded data removed]",
      "text/plain": [
       "<Figure size 720x144 with 1 Axes>"
      ]
     },
     "metadata": {},
     "output_type": "display_data"
    },
    {
     "data": {
      "image/png": "[encoded data removed]",
      "text/plain": [
       "<Figure size 720x144 with 1 Axes>"
      ]
     },
     "metadata": {},
     "output_type": "display_data"
    },
    {
     "data": {
      "image/png": "[encoded data removed]",
      "text/plain": [
       "<Figure size 720x144 with 1 Axes>"
      ]
     },
     "metadata": {},
     "output_type": "display_data"
    },
    {
     "data": {
      "image/png": "[encoded data removed]",
      "text/plain": [
       "<Figure size 720x144 with 1 Axes>"
      ]
     },
     "metadata": {},
     "output_type": "display_data"
    },
    {
     "data": {
      "image/png": "[encoded data removed]",
      "text/plain": [
       "<Figure size 720x144 with 1 Axes>"
      ]
     },
     "metadata": {},
     "output_type": "display_data"
    },
    {
     "data": {
      "image/png": "[encoded data removed]",
      "text/plain": [
       "<Figure size 720x144 with 1 Axes>"
      ]
     },
     "metadata": {},
     "output_type": "display_data"
    },
    {
     "data": {
      "image/png": "[encoded data removed]",
      "text/plain": [
       "<Figure size 720x144 with 1 Axes>"
      ]
     },
     "metadata": {},
     "output_type": "display_data"
    }
   ],
   "source": [
    "for i in range(y_trues[0].shape[0]):\n",
    "    fig, ax = plt.subplots(figsize = (10,2))\n",
    "    ax.imshow(y_trues[0][i,:].reshape(1,1024), cmap=\"plasma\", aspect=\"auto\")\n",
    "    ax.set_yticks([])\n",
    "    ax.set_xticks([])\n",
    "    [ax.spines[key].set_visible(False) for key in ax.spines]\n",
    "    ax.tick_params(axis='both')\n",
    "    fig.patch.set_facecolor(\"#212121ff\")\n"
   ]
  },
  {
   "cell_type": "code",
   "execution_count": 23,
   "id": "8d5329fd",
   "metadata": {},
   "outputs": [
    {
     "name": "stderr",
     "output_type": "stream",
     "text": [
      "<ipython-input-22-c221abda5350>:10: UserWarning: FixedFormatter should only be used together with FixedLocator\n",
      "  ax[1].set_yticklabels(yt, color = color, fontsize = 15)\n",
      "<ipython-input-22-c221abda5350>:12: UserWarning: FixedFormatter should only be used together with FixedLocator\n",
      "  ax[1].set_xticklabels(xt, color = color, fontsize = 15)\n"
     ]
    },
    {
     "data": {
      "text/plain": [
       "(<Figure size 720x360 with 2 Axes>,\n",
       " array([<AxesSubplot:>,\n",
       "        <AxesSubplot:xlabel='Longitud', ylabel='Valor numérico'>],\n",
       "       dtype=object))"
      ]
     },
     "execution_count": 23,
     "metadata": {},
     "output_type": "execute_result"
    },
    {
     "data": {
      "image/png": "[encoded data removed]",
      "text/plain": [
       "<Figure size 720x360 with 2 Axes>"
      ]
     },
     "metadata": {
      "needs_background": "light"
     },
     "output_type": "display_data"
    }
   ],
   "source": [
    "plot_burger(np.array(preds[0].cpu()[0,:]), name = \"burger_pred_black\", trsprnt = True, color = \"k\", color2 = \"b\")"
   ]
  },
  {
   "cell_type": "code",
   "execution_count": 26,
   "id": "9ae263bb",
   "metadata": {},
   "outputs": [
    {
     "name": "stderr",
     "output_type": "stream",
     "text": [
      "<ipython-input-22-c221abda5350>:10: UserWarning: FixedFormatter should only be used together with FixedLocator\n",
      "  ax[1].set_yticklabels(yt, color = color, fontsize = 15)\n",
      "<ipython-input-22-c221abda5350>:12: UserWarning: FixedFormatter should only be used together with FixedLocator\n",
      "  ax[1].set_xticklabels(xt, color = color, fontsize = 15)\n"
     ]
    },
    {
     "data": {
      "text/plain": [
       "(<Figure size 720x360 with 2 Axes>,\n",
       " array([<AxesSubplot:>,\n",
       "        <AxesSubplot:xlabel='Longitud', ylabel='Valor numérico'>],\n",
       "       dtype=object))"
      ]
     },
     "execution_count": 26,
     "metadata": {},
     "output_type": "execute_result"
    },
    {
     "data": {
      "image/png": "[encoded data removed]",
      "text/plain": [
       "<Figure size 720x360 with 2 Axes>"
      ]
     },
     "metadata": {
      "needs_background": "light"
     },
     "output_type": "display_data"
    }
   ],
   "source": [
    "plot_burger(np.array(y_trues[0][0,:]), name = \"burger_true_black\", trsprnt = True, color = \"k\", color2 = \"b\")"
   ]
  },
  {
   "cell_type": "code",
   "execution_count": 27,
   "id": "8395794d",
   "metadata": {},
   "outputs": [
    {
     "name": "stderr",
     "output_type": "stream",
     "text": [
      "<ipython-input-22-c221abda5350>:10: UserWarning: FixedFormatter should only be used together with FixedLocator\n",
      "  ax[1].set_yticklabels(yt, color = color, fontsize = 15)\n",
      "<ipython-input-22-c221abda5350>:12: UserWarning: FixedFormatter should only be used together with FixedLocator\n",
      "  ax[1].set_xticklabels(xt, color = color, fontsize = 15)\n"
     ]
    },
    {
     "data": {
      "text/plain": [
       "(<Figure size 720x360 with 2 Axes>,\n",
       " array([<AxesSubplot:>,\n",
       "        <AxesSubplot:xlabel='Longitud', ylabel='Valor numérico'>],\n",
       "       dtype=object))"
      ]
     },
     "execution_count": 27,
     "metadata": {},
     "output_type": "execute_result"
    },
    {
     "data": {
      "image/png": "[encoded data removed]",
      "text/plain": [
       "<Figure size 720x360 with 2 Axes>"
      ]
     },
     "metadata": {
      "needs_background": "light"
     },
     "output_type": "display_data"
    }
   ],
   "source": [
    "plot_burger(np.abs(np.array(preds[0].cpu()[0,:]) - np.array(y_trues[0][0,:])), name = \"burger_error_black\", trsprnt = True, color = \"k\", color2 = \"b\")"
   ]
  },
  {
   "cell_type": "code",
   "execution_count": null,
   "id": "d93c9e05",
   "metadata": {},
   "outputs": [],
   "source": []
  }
 ],
 "metadata": {
  "@webio": {
   "lastCommId": null,
   "lastKernelId": null
  },
  "kernelspec": {
   "display_name": "Python 3",
   "language": "python",
   "name": "python3"
  },
  "language_info": {
   "codemirror_mode": {
    "name": "ipython",
    "version": 3
   },
   "file_extension": ".py",
   "mimetype": "text/x-python",
   "name": "python",
   "nbconvert_exporter": "python",
   "pygments_lexer": "ipython3",
   "version": "3.8.10"
  }
 },
 "nbformat": 4,
 "nbformat_minor": 5
}
